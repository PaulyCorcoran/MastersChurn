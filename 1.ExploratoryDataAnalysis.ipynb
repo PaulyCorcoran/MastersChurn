{
 "cells": [
  {
   "cell_type": "code",
   "execution_count": 100,
   "outputs": [],
   "source": [
    "import pandas as pd\n",
    "import seaborn as sns\n",
    "import matplotlib.pyplot as plt\n",
    "import numpy as np\n",
    "from sklearn.feature_selection import SelectKBest\n",
    "from sklearn.feature_selection import f_classif\n",
    "from sklearn.model_selection import train_test_split\n",
    "from sklearn.feature_selection import mutual_info_classif\n",
    "from PIL import Image"
   ],
   "metadata": {
    "collapsed": false,
    "pycharm": {
     "name": "#%%\n"
    }
   }
  },
  {
   "cell_type": "code",
   "execution_count": 101,
   "outputs": [],
   "source": [
    "df = pd.read_csv('C:/Users/paulc/Documents/Data Analysis Courses/MastersChurn/ProjectWork/csv_files/ChurnDataframe.csv')"
   ],
   "metadata": {
    "collapsed": false,
    "pycharm": {
     "name": "#%%\n"
    }
   }
  },
  {
   "cell_type": "code",
   "execution_count": 102,
   "outputs": [
    {
     "name": "stdout",
     "output_type": "stream",
     "text": [
      "The shape of the first dataframe:\n",
      " (1000000, 69)\n"
     ]
    }
   ],
   "source": [
    "print(\"The shape of the first dataframe:\\n\", df.shape)"
   ],
   "metadata": {
    "collapsed": false,
    "pycharm": {
     "name": "#%%\n"
    }
   }
  },
  {
   "cell_type": "code",
   "execution_count": 104,
   "outputs": [
    {
     "data": {
      "text/plain": "'01/01/2022'"
     },
     "execution_count": 104,
     "metadata": {},
     "output_type": "execute_result"
    }
   ],
   "source": [
    "df['SK_Date'].min()"
   ],
   "metadata": {
    "collapsed": false,
    "pycharm": {
     "name": "#%%\n"
    }
   }
  },
  {
   "cell_type": "code",
   "execution_count": 105,
   "outputs": [
    {
     "data": {
      "text/plain": "'31/12/2021'"
     },
     "execution_count": 105,
     "metadata": {},
     "output_type": "execute_result"
    }
   ],
   "source": [
    "df['SK_Date'].max()"
   ],
   "metadata": {
    "collapsed": false,
    "pycharm": {
     "name": "#%%\n"
    }
   }
  },
  {
   "cell_type": "code",
   "execution_count": 21,
   "outputs": [
    {
     "data": {
      "text/plain": "array([ 1,  8, 12,  3,  9,  2,  7, 11,  6, 10,  5,  4], dtype=int64)"
     },
     "execution_count": 21,
     "metadata": {},
     "output_type": "execute_result"
    }
   ],
   "source": [
    "df['MonthNumber'].unique()"
   ],
   "metadata": {
    "collapsed": false,
    "pycharm": {
     "name": "#%%\n"
    }
   }
  },
  {
   "cell_type": "code",
   "execution_count": 103,
   "outputs": [
    {
     "data": {
      "text/plain": "Index(['SK_Date', 'AccountNumber', 'MonthNumber', 'DateOpened', 'FirstBetDate',\n       'ClientProfileSummary', 'Gender', 'Age', 'CashActive_YN',\n       'L1DSBTurnover', 'L7DSBTurnover', 'L30DSBTurnover', 'L90DSBTurnover',\n       'L1DSBNetRevenue', 'L7DSBNetRevenue', 'L30DSBNetRevenue',\n       'L90DSBNetRevenue', 'L1DSBFreeBetsHandle', 'L7DSBFreeBetsHandle',\n       'L30DSBFreeBetsHandle', 'L90DSBFreeBetsHandle', 'L1DSBBetCount',\n       'L7DSBBetCount', 'L30DSBBetCount', 'L90DSBBetCount', 'L1DDepositCount',\n       'L7DDepositCount', 'L30DDepositCount', 'L90DDepositCount',\n       'L1DSoccerTurnover', 'L7DSoccerTurnover', 'L30DSoccerTurnover',\n       'L90DSoccerTurnover', 'L1DDepositAmount', 'L7DDepositAmount',\n       'L30DDepositAmount', 'L90DDepositAmount', 'L1DWithdrawalAmount',\n       'L7DWithdrawalAmount', 'L30DWithdrawalAmount', 'L90DWithdrawalAmount',\n       'AccountBalance', 'L1DCasBetCount', 'L7DCasBetCount', 'L30DCasBetCount',\n       'L90DCasBetCount', 'L1DCasNetRevenue', 'L7DCasNetRevenue',\n       'L30DCasNetRevenue', 'L90DCasNetRevenue', 'L1DOtherSportsBetCount',\n       'L7DOtherSportsBetCount', 'L30DOtherSportsBetCount',\n       'L90DOtherSportsBetCount', 'US_SportsTurnover1D', 'US_SportsTurnover7D',\n       'US_SportsTurnover30D', 'US_SportsTurnover90D',\n       'L1DUnsuccessfulDepositCount', 'L7DUnsuccessfulDepositCount',\n       'L30DUnsuccessfulDepositCount', 'L90DUnsuccessfulDepositCount',\n       'DaysSinceLastSBCashAPD', 'DaysSinceLastSBAPD', 'DaysSinceOpened',\n       'DaysSinceFirstBet', 'DaysFromOpenToFirstBet', 'Prediction_End_Date',\n       'Active_Next30Days_Cash_YN'],\n      dtype='object')"
     },
     "execution_count": 103,
     "metadata": {},
     "output_type": "execute_result"
    }
   ],
   "source": [
    "df.columns"
   ],
   "metadata": {
    "collapsed": false,
    "pycharm": {
     "name": "#%%\n"
    }
   }
  },
  {
   "cell_type": "code",
   "execution_count": 23,
   "outputs": [
    {
     "name": "stdout",
     "output_type": "stream",
     "text": [
      "<class 'pandas.core.frame.DataFrame'>\n",
      "RangeIndex: 1000000 entries, 0 to 999999\n",
      "Data columns (total 69 columns):\n",
      " #   Column                        Non-Null Count    Dtype  \n",
      "---  ------                        --------------    -----  \n",
      " 0   SK_Date                       1000000 non-null  object \n",
      " 1   AccountNumber                 1000000 non-null  int64  \n",
      " 2   MonthNumber                   1000000 non-null  int64  \n",
      " 3   DateOpened                    1000000 non-null  object \n",
      " 4   FirstBetDate                  1000000 non-null  object \n",
      " 5   ClientProfileSummary          1000000 non-null  int64  \n",
      " 6   Gender                        1000000 non-null  int64  \n",
      " 7   Age                           1000000 non-null  int64  \n",
      " 8   CashActive_YN                 1000000 non-null  int64  \n",
      " 9   L1DSBTurnover                 1000000 non-null  float64\n",
      " 10  L7DSBTurnover                 1000000 non-null  float64\n",
      " 11  L30DSBTurnover                1000000 non-null  float64\n",
      " 12  L90DSBTurnover                1000000 non-null  float64\n",
      " 13  L1DSBNetRevenue               1000000 non-null  float64\n",
      " 14  L7DSBNetRevenue               1000000 non-null  float64\n",
      " 15  L30DSBNetRevenue              1000000 non-null  float64\n",
      " 16  L90DSBNetRevenue              1000000 non-null  float64\n",
      " 17  L1DSBFreeBetsHandle           1000000 non-null  float64\n",
      " 18  L7DSBFreeBetsHandle           1000000 non-null  float64\n",
      " 19  L30DSBFreeBetsHandle          1000000 non-null  float64\n",
      " 20  L90DSBFreeBetsHandle          1000000 non-null  float64\n",
      " 21  L1DSBBetCount                 1000000 non-null  int64  \n",
      " 22  L7DSBBetCount                 1000000 non-null  int64  \n",
      " 23  L30DSBBetCount                1000000 non-null  int64  \n",
      " 24  L90DSBBetCount                1000000 non-null  int64  \n",
      " 25  L1DDepositCount               1000000 non-null  int64  \n",
      " 26  L7DDepositCount               1000000 non-null  int64  \n",
      " 27  L30DDepositCount              1000000 non-null  int64  \n",
      " 28  L90DDepositCount              1000000 non-null  int64  \n",
      " 29  L1DSoccerTurnover             1000000 non-null  float64\n",
      " 30  L7DSoccerTurnover             1000000 non-null  float64\n",
      " 31  L30DSoccerTurnover            1000000 non-null  float64\n",
      " 32  L90DSoccerTurnover            1000000 non-null  float64\n",
      " 33  L1DDepositAmount              1000000 non-null  float64\n",
      " 34  L7DDepositAmount              1000000 non-null  float64\n",
      " 35  L30DDepositAmount             1000000 non-null  float64\n",
      " 36  L90DDepositAmount             1000000 non-null  float64\n",
      " 37  L1DWithdrawalAmount           1000000 non-null  float64\n",
      " 38  L7DWithdrawalAmount           1000000 non-null  float64\n",
      " 39  L30DWithdrawalAmount          1000000 non-null  float64\n",
      " 40  L90DWithdrawalAmount          1000000 non-null  float64\n",
      " 41  AccountBalance                1000000 non-null  float64\n",
      " 42  L1DCasBetCount                1000000 non-null  int64  \n",
      " 43  L7DCasBetCount                1000000 non-null  int64  \n",
      " 44  L30DCasBetCount               1000000 non-null  int64  \n",
      " 45  L90DCasBetCount               1000000 non-null  int64  \n",
      " 46  L1DCasNetRevenue              1000000 non-null  float64\n",
      " 47  L7DCasNetRevenue              1000000 non-null  float64\n",
      " 48  L30DCasNetRevenue             1000000 non-null  float64\n",
      " 49  L90DCasNetRevenue             1000000 non-null  float64\n",
      " 50  L1DOtherSportsBetCount        1000000 non-null  int64  \n",
      " 51  L7DOtherSportsBetCount        1000000 non-null  int64  \n",
      " 52  L30DOtherSportsBetCount       1000000 non-null  int64  \n",
      " 53  L90DOtherSportsBetCount       1000000 non-null  int64  \n",
      " 54  US_SportsTurnover1D           1000000 non-null  float64\n",
      " 55  US_SportsTurnover7D           1000000 non-null  float64\n",
      " 56  US_SportsTurnover30D          1000000 non-null  float64\n",
      " 57  US_SportsTurnover90D          1000000 non-null  float64\n",
      " 58  L1DUnsuccessfulDepositCount   1000000 non-null  int64  \n",
      " 59  L7DUnsuccessfulDepositCount   1000000 non-null  int64  \n",
      " 60  L30DUnsuccessfulDepositCount  1000000 non-null  int64  \n",
      " 61  L90DUnsuccessfulDepositCount  1000000 non-null  int64  \n",
      " 62  DaysSinceLastSBCashAPD        1000000 non-null  int64  \n",
      " 63  DaysSinceLastSBAPD            1000000 non-null  int64  \n",
      " 64  DaysSinceOpened               1000000 non-null  int64  \n",
      " 65  DaysSinceFirstBet             1000000 non-null  int64  \n",
      " 66  DaysFromOpenToFirstBet        1000000 non-null  int64  \n",
      " 67  Prediction_End_Date           1000000 non-null  object \n",
      " 68  Active_Next30Days_Cash_YN     1000000 non-null  int64  \n",
      "dtypes: float64(33), int64(32), object(4)\n",
      "memory usage: 526.4+ MB\n"
     ]
    }
   ],
   "source": [
    "df.info()"
   ],
   "metadata": {
    "collapsed": false,
    "pycharm": {
     "name": "#%%\n"
    }
   }
  },
  {
   "cell_type": "markdown",
   "source": [
    "Generate a sample for viewing\n"
   ],
   "metadata": {
    "collapsed": false,
    "pycharm": {
     "name": "#%% md\n"
    }
   }
  },
  {
   "cell_type": "code",
   "execution_count": 24,
   "outputs": [
    {
     "data": {
      "text/plain": "           SK_Date  AccountNumber  MonthNumber  DateOpened FirstBetDate  \\\n816683  09/10/2021          12536           10  10/06/2021   10/06/2021   \n\n        ClientProfileSummary  Gender  Age  CashActive_YN  L1DSBTurnover  ...  \\\n816683                     1       1   22              0            0.0  ...   \n\n        L7DUnsuccessfulDepositCount  L30DUnsuccessfulDepositCount  \\\n816683                            0                             0   \n\n        L90DUnsuccessfulDepositCount  DaysSinceLastSBCashAPD  \\\n816683                             0                      52   \n\n        DaysSinceLastSBAPD  DaysSinceOpened  DaysSinceFirstBet  \\\n816683                  52              121                121   \n\n        DaysFromOpenToFirstBet  Prediction_End_Date  Active_Next30Days_Cash_YN  \n816683                       0           08/11/2021                          0  \n\n[1 rows x 69 columns]",
      "text/html": "<div>\n<style scoped>\n    .dataframe tbody tr th:only-of-type {\n        vertical-align: middle;\n    }\n\n    .dataframe tbody tr th {\n        vertical-align: top;\n    }\n\n    .dataframe thead th {\n        text-align: right;\n    }\n</style>\n<table border=\"1\" class=\"dataframe\">\n  <thead>\n    <tr style=\"text-align: right;\">\n      <th></th>\n      <th>SK_Date</th>\n      <th>AccountNumber</th>\n      <th>MonthNumber</th>\n      <th>DateOpened</th>\n      <th>FirstBetDate</th>\n      <th>ClientProfileSummary</th>\n      <th>Gender</th>\n      <th>Age</th>\n      <th>CashActive_YN</th>\n      <th>L1DSBTurnover</th>\n      <th>...</th>\n      <th>L7DUnsuccessfulDepositCount</th>\n      <th>L30DUnsuccessfulDepositCount</th>\n      <th>L90DUnsuccessfulDepositCount</th>\n      <th>DaysSinceLastSBCashAPD</th>\n      <th>DaysSinceLastSBAPD</th>\n      <th>DaysSinceOpened</th>\n      <th>DaysSinceFirstBet</th>\n      <th>DaysFromOpenToFirstBet</th>\n      <th>Prediction_End_Date</th>\n      <th>Active_Next30Days_Cash_YN</th>\n    </tr>\n  </thead>\n  <tbody>\n    <tr>\n      <th>816683</th>\n      <td>09/10/2021</td>\n      <td>12536</td>\n      <td>10</td>\n      <td>10/06/2021</td>\n      <td>10/06/2021</td>\n      <td>1</td>\n      <td>1</td>\n      <td>22</td>\n      <td>0</td>\n      <td>0.0</td>\n      <td>...</td>\n      <td>0</td>\n      <td>0</td>\n      <td>0</td>\n      <td>52</td>\n      <td>52</td>\n      <td>121</td>\n      <td>121</td>\n      <td>0</td>\n      <td>08/11/2021</td>\n      <td>0</td>\n    </tr>\n  </tbody>\n</table>\n<p>1 rows × 69 columns</p>\n</div>"
     },
     "execution_count": 24,
     "metadata": {},
     "output_type": "execute_result"
    }
   ],
   "source": [
    "df.sample(1)"
   ],
   "metadata": {
    "collapsed": false,
    "pycharm": {
     "name": "#%%\n"
    }
   }
  },
  {
   "cell_type": "markdown",
   "source": [
    "Check for any null values"
   ],
   "metadata": {
    "collapsed": false,
    "pycharm": {
     "name": "#%% md\n"
    }
   }
  },
  {
   "cell_type": "code",
   "execution_count": 25,
   "outputs": [
    {
     "data": {
      "text/plain": "SK_Date                      0\nAccountNumber                0\nMonthNumber                  0\nDateOpened                   0\nFirstBetDate                 0\n                            ..\nDaysSinceOpened              0\nDaysSinceFirstBet            0\nDaysFromOpenToFirstBet       0\nPrediction_End_Date          0\nActive_Next30Days_Cash_YN    0\nLength: 69, dtype: int64"
     },
     "execution_count": 25,
     "metadata": {},
     "output_type": "execute_result"
    }
   ],
   "source": [
    "df.isnull().sum()"
   ],
   "metadata": {
    "collapsed": false,
    "pycharm": {
     "name": "#%%\n"
    }
   }
  },
  {
   "cell_type": "code",
   "execution_count": 26,
   "outputs": [
    {
     "data": {
      "text/plain": "Index                            128\nSK_Date                      8000000\nAccountNumber                8000000\nMonthNumber                  8000000\nDateOpened                   8000000\n                              ...   \nDaysSinceOpened              8000000\nDaysSinceFirstBet            8000000\nDaysFromOpenToFirstBet       8000000\nPrediction_End_Date          8000000\nActive_Next30Days_Cash_YN    8000000\nLength: 70, dtype: int64"
     },
     "execution_count": 26,
     "metadata": {},
     "output_type": "execute_result"
    }
   ],
   "source": [
    "df.memory_usage()"
   ],
   "metadata": {
    "collapsed": false,
    "pycharm": {
     "name": "#%%\n"
    }
   }
  },
  {
   "cell_type": "markdown",
   "source": [
    "Visualise the target variable"
   ],
   "metadata": {
    "collapsed": false,
    "pycharm": {
     "name": "#%% md\n"
    }
   }
  },
  {
   "cell_type": "code",
   "execution_count": 27,
   "outputs": [
    {
     "data": {
      "text/plain": "<Figure size 576x360 with 1 Axes>",
      "image/png": "[encoded data removed]"
     },
     "metadata": {},
     "output_type": "display_data"
    }
   ],
   "source": [
    "sns.set(style='whitegrid', palette=[\"red\",\"green\"], font_scale=1.1, rc={\"figure.figsize\": [8, 5]})\n",
    "sns.countplot(x=df['Active_Next30Days_Cash_YN'])\n",
    "plt.title(\"1 means the customer was active therefore not churned\");\n"
   ],
   "metadata": {
    "collapsed": false,
    "pycharm": {
     "name": "#%%\n"
    }
   }
  },
  {
   "cell_type": "code",
   "execution_count": 28,
   "outputs": [
    {
     "data": {
      "text/plain": "Active_Next30Days_Cash_YN\n0    662459\n1    337541\nName: Active_Next30Days_Cash_YN, dtype: int64"
     },
     "execution_count": 28,
     "metadata": {},
     "output_type": "execute_result"
    }
   ],
   "source": [
    "df['Active_Next30Days_Cash_YN'].groupby(df['Active_Next30Days_Cash_YN']).count()"
   ],
   "metadata": {
    "collapsed": false,
    "pycharm": {
     "name": "#%%\n"
    }
   }
  },
  {
   "cell_type": "code",
   "execution_count": 30,
   "outputs": [],
   "source": [
    "unique_customers = df['AccountNumber'].unique()"
   ],
   "metadata": {
    "collapsed": false,
    "pycharm": {
     "name": "#%%\n"
    }
   }
  },
  {
   "cell_type": "code",
   "execution_count": 31,
   "outputs": [
    {
     "name": "stdout",
     "output_type": "stream",
     "text": [
      "The number of unique customers in dataset is: 20200\n"
     ]
    }
   ],
   "source": [
    "print(\"The number of unique customers in dataset is:\",len(unique_customers))"
   ],
   "metadata": {
    "collapsed": false,
    "pycharm": {
     "name": "#%%\n"
    }
   }
  },
  {
   "cell_type": "markdown",
   "source": [
    "<h3> Feature Engineering </h3>\n",
    "First we will see if a customer has bet on their day of opening the account"
   ],
   "metadata": {
    "collapsed": false,
    "pycharm": {
     "name": "#%% md\n"
    }
   }
  },
  {
   "cell_type": "code",
   "execution_count": 35,
   "outputs": [],
   "source": [
    "df['BetOnRegistrationDay'] = df.FirstBetDate == df.DateOpened"
   ],
   "metadata": {
    "collapsed": false,
    "pycharm": {
     "name": "#%%\n"
    }
   }
  },
  {
   "cell_type": "code",
   "execution_count": 39,
   "outputs": [],
   "source": [
    "# recode\n",
    "df['BetOnRegistrationDay'] = df['BetOnRegistrationDay'].replace({True:1,False:0})"
   ],
   "metadata": {
    "collapsed": false,
    "pycharm": {
     "name": "#%%\n"
    }
   }
  },
  {
   "cell_type": "markdown",
   "source": [
    "Demographic Columns"
   ],
   "metadata": {
    "collapsed": false,
    "pycharm": {
     "name": "#%% md\n"
    }
   }
  },
  {
   "cell_type": "code",
   "execution_count": 87,
   "outputs": [],
   "source": [
    "def youngmale1825(df):\n",
    "    if df.Gender == 1 and df.Age > 17 and df.Age < 41:\n",
    "        return 1\n",
    "    else: 0\n",
    "\n",
    "df['YoungMale1840'] = df.apply(youngmale1825,axis=1)\n",
    "#fill NaN with 0 for no\n",
    "df['YoungMale1840'] = df['YoungMale1840'].fillna(0)\n",
    "\n",
    "\n",
    "def olderMale(df):\n",
    "    if df.Gender == 1 and df.Age > 40:\n",
    "        return 1\n",
    "    else: 0\n",
    "\n",
    "df['OlderMale40'] = df.apply(olderMale,axis=1)\n",
    "#fill NaN with 0 for no\n",
    "df['OlderMale40'] = df['OlderMale40'].fillna(0)\n"
   ],
   "metadata": {
    "collapsed": false,
    "pycharm": {
     "name": "#%%\n"
    }
   }
  },
  {
   "cell_type": "markdown",
   "source": [
    "Create a variable on whether the customer received any concessions"
   ],
   "metadata": {
    "collapsed": false,
    "pycharm": {
     "name": "#%% md\n"
    }
   }
  },
  {
   "cell_type": "code",
   "execution_count": 93,
   "outputs": [],
   "source": [
    "def CustomerConcession(df):\n",
    "    if df.L1DSBFreeBetsHandle > 0 or df.L7DSBFreeBetsHandle > 0 \\\n",
    "    or df.L30DSBFreeBetsHandle > 0 or df.L90DSBFreeBetsHandle > 0:\n",
    "        return 1\n",
    "    else: 0\n",
    "\n",
    "df['CustomerConcession90days'] = df.apply(CustomerConcession,axis=1)\n",
    "#fill NaN with 0 for no\n",
    "df['CustomerConcession90days'] = df['CustomerConcession90days'].fillna(0)\n",
    "\n",
    "\n",
    "def CustomerConcession30(df):\n",
    "    if df.L1DSBFreeBetsHandle > 0 or df.L7DSBFreeBetsHandle > 0 \\\n",
    "    or df.L30DSBFreeBetsHandle > 0:\n",
    "        return 1\n",
    "    else: 0\n",
    "\n",
    "df['CustomerConcession30days'] = df.apply(CustomerConcession30,axis=1)\n",
    "#fill NaN with 0 for no\n",
    "df['CustomerConcession30days'] = df['CustomerConcession30days'].fillna(0)"
   ],
   "metadata": {
    "collapsed": false,
    "pycharm": {
     "name": "#%%\n"
    }
   }
  },
  {
   "cell_type": "code",
   "execution_count": 94,
   "outputs": [
    {
     "data": {
      "text/plain": "      SK_Date  AccountNumber  MonthNumber  DateOpened FirstBetDate  \\\n0  07/01/2022           5676            1  20/02/2021   20/02/2021   \n1  02/08/2021          12532            8  29/01/2021   29/01/2021   \n2  09/12/2021          12532           12  29/01/2021   29/01/2021   \n3  03/03/2022           5677            3  08/03/2021   09/03/2021   \n4  26/09/2021           5678            9  08/03/2021   09/03/2021   \n\n   ClientProfileSummary  Gender  Age  CashActive_YN  L1DSBTurnover  ...  \\\n0                     2       1   37              1           28.0  ...   \n1                     2       1   30              0            0.0  ...   \n2                     2       1   30              0            0.0  ...   \n3                     2       1   56              0            0.0  ...   \n4                     2       0   40              0            0.0  ...   \n\n   DaysSinceOpened  DaysSinceFirstBet  DaysFromOpenToFirstBet  \\\n0              321                321                       0   \n1              185                185                       0   \n2              314                314                       0   \n3              360                359                       1   \n4              202                201                       1   \n\n   Prediction_End_Date  Active_Next30Days_Cash_YN  BetOnRegistrationDay  \\\n0           06/02/2022                          1                     1   \n1           01/09/2021                          1                     1   \n2           08/01/2022                          1                     1   \n3           02/04/2022                          1                     0   \n4           26/10/2021                          0                     0   \n\n   YoungMale1840  OlderMale40  CustomerConcession90days  \\\n0            1.0          0.0                       1.0   \n1            1.0          0.0                       1.0   \n2            1.0          0.0                       1.0   \n3            0.0          1.0                       1.0   \n4            0.0          0.0                       0.0   \n\n   CustomerConcession30days  \n0                       1.0  \n1                       0.0  \n2                       1.0  \n3                       1.0  \n4                       0.0  \n\n[5 rows x 74 columns]",
      "text/html": "<div>\n<style scoped>\n    .dataframe tbody tr th:only-of-type {\n        vertical-align: middle;\n    }\n\n    .dataframe tbody tr th {\n        vertical-align: top;\n    }\n\n    .dataframe thead th {\n        text-align: right;\n    }\n</style>\n<table border=\"1\" class=\"dataframe\">\n  <thead>\n    <tr style=\"text-align: right;\">\n      <th></th>\n      <th>SK_Date</th>\n      <th>AccountNumber</th>\n      <th>MonthNumber</th>\n      <th>DateOpened</th>\n      <th>FirstBetDate</th>\n      <th>ClientProfileSummary</th>\n      <th>Gender</th>\n      <th>Age</th>\n      <th>CashActive_YN</th>\n      <th>L1DSBTurnover</th>\n      <th>...</th>\n      <th>DaysSinceOpened</th>\n      <th>DaysSinceFirstBet</th>\n      <th>DaysFromOpenToFirstBet</th>\n      <th>Prediction_End_Date</th>\n      <th>Active_Next30Days_Cash_YN</th>\n      <th>BetOnRegistrationDay</th>\n      <th>YoungMale1840</th>\n      <th>OlderMale40</th>\n      <th>CustomerConcession90days</th>\n      <th>CustomerConcession30days</th>\n    </tr>\n  </thead>\n  <tbody>\n    <tr>\n      <th>0</th>\n      <td>07/01/2022</td>\n      <td>5676</td>\n      <td>1</td>\n      <td>20/02/2021</td>\n      <td>20/02/2021</td>\n      <td>2</td>\n      <td>1</td>\n      <td>37</td>\n      <td>1</td>\n      <td>28.0</td>\n      <td>...</td>\n      <td>321</td>\n      <td>321</td>\n      <td>0</td>\n      <td>06/02/2022</td>\n      <td>1</td>\n      <td>1</td>\n      <td>1.0</td>\n      <td>0.0</td>\n      <td>1.0</td>\n      <td>1.0</td>\n    </tr>\n    <tr>\n      <th>1</th>\n      <td>02/08/2021</td>\n      <td>12532</td>\n      <td>8</td>\n      <td>29/01/2021</td>\n      <td>29/01/2021</td>\n      <td>2</td>\n      <td>1</td>\n      <td>30</td>\n      <td>0</td>\n      <td>0.0</td>\n      <td>...</td>\n      <td>185</td>\n      <td>185</td>\n      <td>0</td>\n      <td>01/09/2021</td>\n      <td>1</td>\n      <td>1</td>\n      <td>1.0</td>\n      <td>0.0</td>\n      <td>1.0</td>\n      <td>0.0</td>\n    </tr>\n    <tr>\n      <th>2</th>\n      <td>09/12/2021</td>\n      <td>12532</td>\n      <td>12</td>\n      <td>29/01/2021</td>\n      <td>29/01/2021</td>\n      <td>2</td>\n      <td>1</td>\n      <td>30</td>\n      <td>0</td>\n      <td>0.0</td>\n      <td>...</td>\n      <td>314</td>\n      <td>314</td>\n      <td>0</td>\n      <td>08/01/2022</td>\n      <td>1</td>\n      <td>1</td>\n      <td>1.0</td>\n      <td>0.0</td>\n      <td>1.0</td>\n      <td>1.0</td>\n    </tr>\n    <tr>\n      <th>3</th>\n      <td>03/03/2022</td>\n      <td>5677</td>\n      <td>3</td>\n      <td>08/03/2021</td>\n      <td>09/03/2021</td>\n      <td>2</td>\n      <td>1</td>\n      <td>56</td>\n      <td>0</td>\n      <td>0.0</td>\n      <td>...</td>\n      <td>360</td>\n      <td>359</td>\n      <td>1</td>\n      <td>02/04/2022</td>\n      <td>1</td>\n      <td>0</td>\n      <td>0.0</td>\n      <td>1.0</td>\n      <td>1.0</td>\n      <td>1.0</td>\n    </tr>\n    <tr>\n      <th>4</th>\n      <td>26/09/2021</td>\n      <td>5678</td>\n      <td>9</td>\n      <td>08/03/2021</td>\n      <td>09/03/2021</td>\n      <td>2</td>\n      <td>0</td>\n      <td>40</td>\n      <td>0</td>\n      <td>0.0</td>\n      <td>...</td>\n      <td>202</td>\n      <td>201</td>\n      <td>1</td>\n      <td>26/10/2021</td>\n      <td>0</td>\n      <td>0</td>\n      <td>0.0</td>\n      <td>0.0</td>\n      <td>0.0</td>\n      <td>0.0</td>\n    </tr>\n  </tbody>\n</table>\n<p>5 rows × 74 columns</p>\n</div>"
     },
     "execution_count": 94,
     "metadata": {},
     "output_type": "execute_result"
    }
   ],
   "source": [
    "df.head()"
   ],
   "metadata": {
    "collapsed": false,
    "pycharm": {
     "name": "#%%\n"
    }
   }
  },
  {
   "cell_type": "code",
   "execution_count": 95,
   "outputs": [],
   "source": [
    "#df.to_csv('ChurnModelDataFrame.csv')"
   ],
   "metadata": {
    "collapsed": false,
    "pycharm": {
     "name": "#%%\n"
    }
   }
  },
  {
   "cell_type": "markdown",
   "source": [
    "<h2> EDA on merged file after both statistical tests"
   ],
   "metadata": {
    "collapsed": false,
    "pycharm": {
     "name": "#%% md\n"
    }
   }
  },
  {
   "cell_type": "code",
   "execution_count": 32,
   "outputs": [],
   "source": [
    "churn = pd.read_csv('C:/Users/paulc/Documents/Data Analysis Courses/MastersChurn/ProjectWork/ChurnModelv1.csv')"
   ],
   "metadata": {
    "collapsed": false,
    "pycharm": {
     "name": "#%%\n"
    }
   }
  },
  {
   "cell_type": "code",
   "execution_count": 29,
   "outputs": [
    {
     "data": {
      "text/plain": "Index(['MonthNumber', 'ClientProfileSummary', 'Gender', 'CashActive_YN',\n       'L1DSBBetCount', 'L7DSBBetCount', 'L30DSBBetCount', 'L90DSBBetCount',\n       'L1DDepositCount', 'L7DDepositCount', 'L30DDepositCount',\n       'L90DDepositCount', 'L7DOtherSportsBetCount', 'L30DOtherSportsBetCount',\n       'L90DOtherSportsBetCount', 'L90DUnsuccessfulDepositCount',\n       'DaysSinceLastSBCashAPD', 'DaysSinceLastSBAPD', 'OlderMale40',\n       'CustomerConcession90days', 'Active_Next30Days_Cash_YN',\n       'L7DSBBetCount.1', 'L30DSBBetCount.1', 'L7DSBTurnover',\n       'US_SportsTurnover7D', 'L30DSBTurnover', 'US_SportsTurnover30D',\n       'L30DOtherSportsBetCount.1', 'L90DSBBetCount.1',\n       'L90DOtherSportsBetCount.1', 'CashActive_YN.1',\n       'CustomerConcession30days', 'L1DSBBetCount.1', 'L90DSBTurnover',\n       'L1DSBTurnover', 'US_SportsTurnover1D', 'L30DSBFreeBetsHandle',\n       'US_SportsTurnover90D', 'L7DOtherSportsBetCount.1',\n       'L7DSBFreeBetsHandle', 'L30DDepositCount.1',\n       'Active_Next30Days_Cash_YN.1'],\n      dtype='object')"
     },
     "execution_count": 29,
     "metadata": {},
     "output_type": "execute_result"
    }
   ],
   "source": [
    "churn.columns"
   ],
   "metadata": {
    "collapsed": false,
    "pycharm": {
     "name": "#%%\n"
    }
   }
  },
  {
   "cell_type": "code",
   "execution_count": 33,
   "outputs": [],
   "source": [
    "churn = churn.drop(columns=['L30DOtherSportsBetCount.1', 'L90DSBBetCount.1',\n",
    "       'L90DOtherSportsBetCount.1', 'CashActive_YN.1','L7DOtherSportsBetCount.1','L7DSBBetCount.1', 'L30DSBBetCount.1'\n",
    "                            ,'L30DDepositCount.1','L1DSBBetCount.1','Active_Next30Days_Cash_YN.1'])"
   ],
   "metadata": {
    "collapsed": false,
    "pycharm": {
     "name": "#%%\n"
    }
   }
  },
  {
   "cell_type": "code",
   "execution_count": 34,
   "outputs": [
    {
     "data": {
      "text/plain": "Index(['MonthNumber', 'ClientProfileSummary', 'Gender', 'CashActive_YN',\n       'L1DSBBetCount', 'L7DSBBetCount', 'L30DSBBetCount', 'L90DSBBetCount',\n       'L1DDepositCount', 'L7DDepositCount', 'L30DDepositCount',\n       'L90DDepositCount', 'L7DOtherSportsBetCount', 'L30DOtherSportsBetCount',\n       'L90DOtherSportsBetCount', 'L90DUnsuccessfulDepositCount',\n       'DaysSinceLastSBCashAPD', 'DaysSinceLastSBAPD', 'OlderMale40',\n       'CustomerConcession90days', 'Active_Next30Days_Cash_YN',\n       'L7DSBTurnover', 'US_SportsTurnover7D', 'L30DSBTurnover',\n       'US_SportsTurnover30D', 'CustomerConcession30days', 'L90DSBTurnover',\n       'L1DSBTurnover', 'US_SportsTurnover1D', 'L30DSBFreeBetsHandle',\n       'US_SportsTurnover90D', 'L7DSBFreeBetsHandle'],\n      dtype='object')"
     },
     "execution_count": 34,
     "metadata": {},
     "output_type": "execute_result"
    }
   ],
   "source": [
    "churn.columns"
   ],
   "metadata": {
    "collapsed": false,
    "pycharm": {
     "name": "#%%\n"
    }
   }
  },
  {
   "cell_type": "code",
   "execution_count": 35,
   "outputs": [
    {
     "data": {
      "text/plain": "(1000000, 32)"
     },
     "execution_count": 35,
     "metadata": {},
     "output_type": "execute_result"
    }
   ],
   "source": [
    "churn.shape"
   ],
   "metadata": {
    "collapsed": false,
    "pycharm": {
     "name": "#%%\n"
    }
   }
  },
  {
   "cell_type": "code",
   "execution_count": 2,
   "outputs": [],
   "source": [
    "churn = pd.read_csv('C:/Users/paulc/Documents/Data Analysis Courses/MastersChurn/ProjectWork/ChurnModelv1.csv')"
   ],
   "metadata": {
    "collapsed": false,
    "pycharm": {
     "name": "#%%\n"
    }
   }
  },
  {
   "cell_type": "code",
   "execution_count": 6,
   "outputs": [
    {
     "data": {
      "text/plain": "Index(['MonthNumber', 'ClientProfileSummary', 'Gender', 'CashActive_YN',\n       'L1DSBBetCount', 'L7DSBBetCount', 'L30DSBBetCount', 'L90DSBBetCount',\n       'L1DDepositCount', 'L7DDepositCount', 'L30DDepositCount',\n       'L90DDepositCount', 'L7DOtherSportsBetCount', 'L30DOtherSportsBetCount',\n       'L90DOtherSportsBetCount', 'L90DUnsuccessfulDepositCount',\n       'DaysSinceLastSBCashAPD', 'DaysSinceLastSBAPD', 'OlderMale40',\n       'CustomerConcession90days', 'Active_Next30Days_Cash_YN',\n       'L7DSBTurnover', 'US_SportsTurnover7D', 'L30DSBTurnover',\n       'US_SportsTurnover30D', 'CustomerConcession30days', 'L90DSBTurnover',\n       'L1DSBTurnover', 'US_SportsTurnover1D', 'L30DSBFreeBetsHandle',\n       'US_SportsTurnover90D', 'L7DSBFreeBetsHandle'],\n      dtype='object')"
     },
     "execution_count": 6,
     "metadata": {},
     "output_type": "execute_result"
    }
   ],
   "source": [
    "churn.columns"
   ],
   "metadata": {
    "collapsed": false,
    "pycharm": {
     "name": "#%%\n"
    }
   }
  },
  {
   "cell_type": "markdown",
   "source": [
    "Outlier Detection plots"
   ],
   "metadata": {
    "collapsed": false,
    "pycharm": {
     "name": "#%% md\n"
    }
   }
  },
  {
   "cell_type": "code",
   "execution_count": 18,
   "outputs": [
    {
     "data": {
      "text/plain": "<Figure size 432x288 with 1 Axes>",
      "image/png": "[encoded data removed]"
     },
     "metadata": {},
     "output_type": "display_data"
    }
   ],
   "source": [
    "ax = sns.boxplot(y=\"ClientProfileSummary\",data=churn)"
   ],
   "metadata": {
    "collapsed": false,
    "pycharm": {
     "name": "#%%\n"
    }
   }
  },
  {
   "cell_type": "code",
   "execution_count": 22,
   "outputs": [
    {
     "data": {
      "text/plain": "<Figure size 432x288 with 1 Axes>",
      "image/png": "[encoded data removed]"
     },
     "metadata": {},
     "output_type": "display_data"
    }
   ],
   "source": [
    "ax = sns.histplot(x='Gender',data=churn)"
   ],
   "metadata": {
    "collapsed": false,
    "pycharm": {
     "name": "#%%\n"
    }
   }
  },
  {
   "cell_type": "code",
   "execution_count": 23,
   "outputs": [
    {
     "data": {
      "text/plain": "<Figure size 432x288 with 1 Axes>",
      "image/png": "[encoded data removed]"
     },
     "metadata": {},
     "output_type": "display_data"
    }
   ],
   "source": [
    "ax = sns.histplot(x='CashActive_YN',data=churn)"
   ],
   "metadata": {
    "collapsed": false,
    "pycharm": {
     "name": "#%%\n"
    }
   }
  },
  {
   "cell_type": "code",
   "execution_count": 32,
   "outputs": [
    {
     "data": {
      "text/plain": "<Figure size 432x288 with 1 Axes>",
      "image/png": "[encoded data removed]"
     },
     "metadata": {},
     "output_type": "display_data"
    }
   ],
   "source": [
    "ax = sns.barplot(y=\"CashActive_YN\",x='MonthNumber',data=churn)"
   ],
   "metadata": {
    "collapsed": false,
    "pycharm": {
     "name": "#%%\n"
    }
   }
  },
  {
   "cell_type": "code",
   "execution_count": 68,
   "outputs": [],
   "source": [
    "churners = churn.loc[churn['Active_Next30Days_Cash_YN']== 0]\n",
    "churners_agg = churners.groupby(['Active_Next30Days_Cash_YN','MonthNumber']).size().reset_index()"
   ],
   "metadata": {
    "collapsed": false,
    "pycharm": {
     "name": "#%%\n"
    }
   }
  },
  {
   "cell_type": "code",
   "execution_count": 81,
   "outputs": [],
   "source": [
    "actives = churn.loc[churn['Active_Next30Days_Cash_YN']== 1]\n",
    "actives_agg = actives.groupby(['Active_Next30Days_Cash_YN','MonthNumber']).size().reset_index()"
   ],
   "metadata": {
    "collapsed": false,
    "pycharm": {
     "name": "#%%\n"
    }
   }
  },
  {
   "cell_type": "code",
   "execution_count": 82,
   "outputs": [],
   "source": [
    "churners_agg = pd.DataFrame(churners_agg)\n",
    "actives_agg = pd.DataFrame(actives_agg)"
   ],
   "metadata": {
    "collapsed": false,
    "pycharm": {
     "name": "#%%\n"
    }
   }
  },
  {
   "cell_type": "code",
   "execution_count": 83,
   "outputs": [],
   "source": [
    "churners_agg.columns = ['Active_Next30Days_Cash_YN','MonthNumber','Churn']\n",
    "actives_agg.columns = ['Active_Next30Days_Cash_YN','MonthNumber','Active']"
   ],
   "metadata": {
    "collapsed": false,
    "pycharm": {
     "name": "#%%\n"
    }
   }
  },
  {
   "cell_type": "code",
   "execution_count": 96,
   "outputs": [
    {
     "data": {
      "text/plain": "<Figure size 432x288 with 1 Axes>",
      "image/png": "[encoded data removed]"
     },
     "metadata": {},
     "output_type": "display_data"
    }
   ],
   "source": [
    "ax = sns.barplot(y=\"Churn\",x='MonthNumber',data=churners_agg)\n",
    "plt.title('Churn Rate across Year 2021')\n",
    "plt.xlabel('Month');"
   ],
   "metadata": {
    "collapsed": false,
    "pycharm": {
     "name": "#%%\n"
    }
   }
  },
  {
   "cell_type": "code",
   "execution_count": 94,
   "outputs": [
    {
     "data": {
      "text/plain": "<Figure size 432x288 with 1 Axes>",
      "image/png": "[encoded data removed]"
     },
     "metadata": {},
     "output_type": "display_data"
    }
   ],
   "source": [
    "ax = sns.barplot(y=\"Active\",x='MonthNumber',data=actives_agg)\n",
    "plt.title('Actives Rate across Year 2021')\n",
    "plt.xlabel('Month');"
   ],
   "metadata": {
    "collapsed": false,
    "pycharm": {
     "name": "#%%\n"
    }
   }
  }
 ],
 "metadata": {
  "kernelspec": {
   "display_name": "Python 3",
   "language": "python",
   "name": "python3"
  },
  "language_info": {
   "codemirror_mode": {
    "name": "ipython",
    "version": 2
   },
   "file_extension": ".py",
   "mimetype": "text/x-python",
   "name": "python",
   "nbconvert_exporter": "python",
   "pygments_lexer": "ipython2",
   "version": "2.7.6"
  }
 },
 "nbformat": 4,
 "nbformat_minor": 0
}