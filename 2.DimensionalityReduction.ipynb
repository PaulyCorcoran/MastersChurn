{
 "cells": [
  {
   "cell_type": "markdown",
   "source": [
    "<h1> Import Libaries"
   ],
   "metadata": {
    "collapsed": false,
    "pycharm": {
     "name": "#%% md\n"
    }
   }
  },
  {
   "cell_type": "code",
   "execution_count": 2,
   "id": "d462db44",
   "metadata": {
    "pycharm": {
     "name": "#%%\n"
    }
   },
   "outputs": [],
   "source": [
    "import pandas as pd\n",
    "import seaborn as sns\n",
    "import matplotlib.pyplot as plt\n",
    "from sklearn.feature_selection import SelectKBest\n",
    "from sklearn.feature_selection import f_classif\n",
    "from sklearn.model_selection import train_test_split\n",
    "from sklearn.feature_selection import mutual_info_classif\n",
    "from PIL import Image\n"
   ]
  },
  {
   "cell_type": "code",
   "execution_count": 3,
   "id": "b4f14137",
   "metadata": {
    "pycharm": {
     "name": "#%%\n"
    }
   },
   "outputs": [],
   "source": [
    "df = pd.read_csv('C:/Users/paulc/Documents/Data Analysis Courses/MastersChurn/ProjectWork/ChurnModelDataFrame.csv')"
   ]
  },
  {
   "cell_type": "code",
   "execution_count": 4,
   "id": "769448ca",
   "metadata": {
    "pycharm": {
     "name": "#%%\n"
    }
   },
   "outputs": [
    {
     "data": {
      "text/plain": "(1000000, 75)"
     },
     "execution_count": 4,
     "metadata": {},
     "output_type": "execute_result"
    }
   ],
   "source": [
    "df.shape"
   ]
  },
  {
   "cell_type": "code",
   "execution_count": 5,
   "id": "a1cdde3b",
   "metadata": {
    "pycharm": {
     "name": "#%%\n"
    }
   },
   "outputs": [
    {
     "name": "stdout",
     "output_type": "stream",
     "text": [
      "Unnamed: 0\n",
      "SK_Date\n",
      "AccountNumber\n",
      "MonthNumber\n",
      "DateOpened\n",
      "FirstBetDate\n",
      "ClientProfileSummary\n",
      "Gender\n",
      "Age\n",
      "CashActive_YN\n",
      "L1DSBTurnover\n",
      "L7DSBTurnover\n",
      "L30DSBTurnover\n",
      "L90DSBTurnover\n",
      "L1DSBNetRevenue\n",
      "L7DSBNetRevenue\n",
      "L30DSBNetRevenue\n",
      "L90DSBNetRevenue\n",
      "L1DSBFreeBetsHandle\n",
      "L7DSBFreeBetsHandle\n",
      "L30DSBFreeBetsHandle\n",
      "L90DSBFreeBetsHandle\n",
      "L1DSBBetCount\n",
      "L7DSBBetCount\n",
      "L30DSBBetCount\n",
      "L90DSBBetCount\n",
      "L1DDepositCount\n",
      "L7DDepositCount\n",
      "L30DDepositCount\n",
      "L90DDepositCount\n",
      "L1DSoccerTurnover\n",
      "L7DSoccerTurnover\n",
      "L30DSoccerTurnover\n",
      "L90DSoccerTurnover\n",
      "L1DDepositAmount\n",
      "L7DDepositAmount\n",
      "L30DDepositAmount\n",
      "L90DDepositAmount\n",
      "L1DWithdrawalAmount\n",
      "L7DWithdrawalAmount\n",
      "L30DWithdrawalAmount\n",
      "L90DWithdrawalAmount\n",
      "AccountBalance\n",
      "L1DCasBetCount\n",
      "L7DCasBetCount\n",
      "L30DCasBetCount\n",
      "L90DCasBetCount\n",
      "L1DCasNetRevenue\n",
      "L7DCasNetRevenue\n",
      "L30DCasNetRevenue\n",
      "L90DCasNetRevenue\n",
      "L1DOtherSportsBetCount\n",
      "L7DOtherSportsBetCount\n",
      "L30DOtherSportsBetCount\n",
      "L90DOtherSportsBetCount\n",
      "US_SportsTurnover1D\n",
      "US_SportsTurnover7D\n",
      "US_SportsTurnover30D\n",
      "US_SportsTurnover90D\n",
      "L1DUnsuccessfulDepositCount\n",
      "L7DUnsuccessfulDepositCount\n",
      "L30DUnsuccessfulDepositCount\n",
      "L90DUnsuccessfulDepositCount\n",
      "DaysSinceLastSBCashAPD\n",
      "DaysSinceLastSBAPD\n",
      "DaysSinceOpened\n",
      "DaysSinceFirstBet\n",
      "DaysFromOpenToFirstBet\n",
      "Prediction_End_Date\n",
      "Active_Next30Days_Cash_YN\n",
      "BetOnRegistrationDay\n",
      "YoungMale1840\n",
      "OlderMale40\n",
      "CustomerConcession90days\n",
      "CustomerConcession30days\n"
     ]
    }
   ],
   "source": [
    "for col in df.columns:\n",
    "    print(col)"
   ]
  },
  {
   "cell_type": "markdown",
   "id": "ffdf3f1e",
   "metadata": {
    "pycharm": {
     "name": "#%% md\n"
    }
   },
   "source": [
    "<h4>The company classifies a customer as churned if they do not make a cash bet"
   ]
  },
  {
   "cell_type": "code",
   "execution_count": 16,
   "id": "6529bd85",
   "metadata": {
    "pycharm": {
     "name": "#%%\n"
    }
   },
   "outputs": [],
   "source": [
    "#df.rename(columns = {'Churn':'Active_Next30Days_Cash_YN'}, inplace = True)"
   ]
  },
  {
   "cell_type": "code",
   "execution_count": 6,
   "id": "637085fc",
   "metadata": {
    "pycharm": {
     "name": "#%%\n"
    }
   },
   "outputs": [],
   "source": [
    "df['Active_Next30Days_Cash_YN'] = df['Active_Next30Days_Cash_YN'].replace({0:\"no\",1:\"yes\"})"
   ]
  },
  {
   "cell_type": "markdown",
   "id": "2ad89f6f",
   "metadata": {
    "pycharm": {
     "name": "#%% md\n"
    }
   },
   "source": [
    "<h2> Dimensionality Reduction"
   ]
  },
  {
   "cell_type": "code",
   "execution_count": 7,
   "id": "611f00a1",
   "metadata": {
    "pycharm": {
     "name": "#%%\n"
    }
   },
   "outputs": [
    {
     "name": "stdout",
     "output_type": "stream",
     "text": [
      "<class 'pandas.core.frame.DataFrame'>\n",
      "RangeIndex: 1000000 entries, 0 to 999999\n",
      "Data columns (total 75 columns):\n",
      " #   Column                        Non-Null Count    Dtype  \n",
      "---  ------                        --------------    -----  \n",
      " 0   Unnamed: 0                    1000000 non-null  int64  \n",
      " 1   SK_Date                       1000000 non-null  object \n",
      " 2   AccountNumber                 1000000 non-null  int64  \n",
      " 3   MonthNumber                   1000000 non-null  int64  \n",
      " 4   DateOpened                    1000000 non-null  object \n",
      " 5   FirstBetDate                  1000000 non-null  object \n",
      " 6   ClientProfileSummary          1000000 non-null  int64  \n",
      " 7   Gender                        1000000 non-null  int64  \n",
      " 8   Age                           1000000 non-null  int64  \n",
      " 9   CashActive_YN                 1000000 non-null  int64  \n",
      " 10  L1DSBTurnover                 1000000 non-null  float64\n",
      " 11  L7DSBTurnover                 1000000 non-null  float64\n",
      " 12  L30DSBTurnover                1000000 non-null  float64\n",
      " 13  L90DSBTurnover                1000000 non-null  float64\n",
      " 14  L1DSBNetRevenue               1000000 non-null  float64\n",
      " 15  L7DSBNetRevenue               1000000 non-null  float64\n",
      " 16  L30DSBNetRevenue              1000000 non-null  float64\n",
      " 17  L90DSBNetRevenue              1000000 non-null  float64\n",
      " 18  L1DSBFreeBetsHandle           1000000 non-null  float64\n",
      " 19  L7DSBFreeBetsHandle           1000000 non-null  float64\n",
      " 20  L30DSBFreeBetsHandle          1000000 non-null  float64\n",
      " 21  L90DSBFreeBetsHandle          1000000 non-null  float64\n",
      " 22  L1DSBBetCount                 1000000 non-null  int64  \n",
      " 23  L7DSBBetCount                 1000000 non-null  int64  \n",
      " 24  L30DSBBetCount                1000000 non-null  int64  \n",
      " 25  L90DSBBetCount                1000000 non-null  int64  \n",
      " 26  L1DDepositCount               1000000 non-null  int64  \n",
      " 27  L7DDepositCount               1000000 non-null  int64  \n",
      " 28  L30DDepositCount              1000000 non-null  int64  \n",
      " 29  L90DDepositCount              1000000 non-null  int64  \n",
      " 30  L1DSoccerTurnover             1000000 non-null  float64\n",
      " 31  L7DSoccerTurnover             1000000 non-null  float64\n",
      " 32  L30DSoccerTurnover            1000000 non-null  float64\n",
      " 33  L90DSoccerTurnover            1000000 non-null  float64\n",
      " 34  L1DDepositAmount              1000000 non-null  float64\n",
      " 35  L7DDepositAmount              1000000 non-null  float64\n",
      " 36  L30DDepositAmount             1000000 non-null  float64\n",
      " 37  L90DDepositAmount             1000000 non-null  float64\n",
      " 38  L1DWithdrawalAmount           1000000 non-null  float64\n",
      " 39  L7DWithdrawalAmount           1000000 non-null  float64\n",
      " 40  L30DWithdrawalAmount          1000000 non-null  float64\n",
      " 41  L90DWithdrawalAmount          1000000 non-null  float64\n",
      " 42  AccountBalance                1000000 non-null  float64\n",
      " 43  L1DCasBetCount                1000000 non-null  int64  \n",
      " 44  L7DCasBetCount                1000000 non-null  int64  \n",
      " 45  L30DCasBetCount               1000000 non-null  int64  \n",
      " 46  L90DCasBetCount               1000000 non-null  int64  \n",
      " 47  L1DCasNetRevenue              1000000 non-null  float64\n",
      " 48  L7DCasNetRevenue              1000000 non-null  float64\n",
      " 49  L30DCasNetRevenue             1000000 non-null  float64\n",
      " 50  L90DCasNetRevenue             1000000 non-null  float64\n",
      " 51  L1DOtherSportsBetCount        1000000 non-null  int64  \n",
      " 52  L7DOtherSportsBetCount        1000000 non-null  int64  \n",
      " 53  L30DOtherSportsBetCount       1000000 non-null  int64  \n",
      " 54  L90DOtherSportsBetCount       1000000 non-null  int64  \n",
      " 55  US_SportsTurnover1D           1000000 non-null  float64\n",
      " 56  US_SportsTurnover7D           1000000 non-null  float64\n",
      " 57  US_SportsTurnover30D          1000000 non-null  float64\n",
      " 58  US_SportsTurnover90D          1000000 non-null  float64\n",
      " 59  L1DUnsuccessfulDepositCount   1000000 non-null  int64  \n",
      " 60  L7DUnsuccessfulDepositCount   1000000 non-null  int64  \n",
      " 61  L30DUnsuccessfulDepositCount  1000000 non-null  int64  \n",
      " 62  L90DUnsuccessfulDepositCount  1000000 non-null  int64  \n",
      " 63  DaysSinceLastSBCashAPD        1000000 non-null  int64  \n",
      " 64  DaysSinceLastSBAPD            1000000 non-null  int64  \n",
      " 65  DaysSinceOpened               1000000 non-null  int64  \n",
      " 66  DaysSinceFirstBet             1000000 non-null  int64  \n",
      " 67  DaysFromOpenToFirstBet        1000000 non-null  int64  \n",
      " 68  Prediction_End_Date           1000000 non-null  object \n",
      " 69  Active_Next30Days_Cash_YN     1000000 non-null  object \n",
      " 70  BetOnRegistrationDay          1000000 non-null  int64  \n",
      " 71  YoungMale1840                 1000000 non-null  float64\n",
      " 72  OlderMale40                   1000000 non-null  float64\n",
      " 73  CustomerConcession90days      1000000 non-null  float64\n",
      " 74  CustomerConcession30days      1000000 non-null  float64\n",
      "dtypes: float64(37), int64(33), object(5)\n",
      "memory usage: 572.2+ MB\n"
     ]
    }
   ],
   "source": [
    "df.info()"
   ]
  },
  {
   "cell_type": "markdown",
   "id": "73c3f6e2",
   "metadata": {
    "pycharm": {
     "name": "#%% md\n"
    }
   },
   "source": [
    "Remove string variables and Account Numbers\n"
   ]
  },
  {
   "cell_type": "code",
   "execution_count": 8,
   "id": "a20888b7",
   "metadata": {
    "pycharm": {
     "name": "#%%\n"
    }
   },
   "outputs": [],
   "source": [
    "remove_cols = ['AccountNumber','Prediction_End_Date','FirstBetDate','SK_Date','DateOpened']"
   ]
  },
  {
   "cell_type": "code",
   "execution_count": 9,
   "id": "c1269769",
   "metadata": {
    "pycharm": {
     "name": "#%%\n"
    }
   },
   "outputs": [],
   "source": [
    "dr_df = df.drop(columns=remove_cols, axis=1)"
   ]
  },
  {
   "cell_type": "markdown",
   "source": [
    "<h1> Dimensionality Reduction </h1>\n",
    "\n",
    " - ANOVA\n",
    " - Kendall's Rank"
   ],
   "metadata": {
    "collapsed": false,
    "pycharm": {
     "name": "#%% md\n"
    }
   }
  },
  {
   "cell_type": "markdown",
   "id": "3faa8498",
   "metadata": {
    "pycharm": {
     "name": "#%% md\n"
    }
   },
   "source": [
    "<h3> Use ANOVA to feature select the top 20 variables that correlate"
   ]
  },
  {
   "cell_type": "code",
   "execution_count": 10,
   "id": "e6888120",
   "metadata": {
    "pycharm": {
     "name": "#%%\n"
    }
   },
   "outputs": [],
   "source": [
    "y = dr_df['Active_Next30Days_Cash_YN']\n",
    "X = dr_df.drop(columns=['Active_Next30Days_Cash_YN'], axis=1)"
   ]
  },
  {
   "cell_type": "code",
   "execution_count": 11,
   "id": "47d2a3d0",
   "metadata": {
    "pycharm": {
     "name": "#%%\n"
    }
   },
   "outputs": [],
   "source": [
    "X_train, X_test, y_train, y_test = train_test_split(X, y, test_size=0.30, random_state=42)"
   ]
  },
  {
   "cell_type": "markdown",
   "source": [
    "First, select all variables and perform analysis of variance test to determine correlation"
   ],
   "metadata": {
    "collapsed": false,
    "pycharm": {
     "name": "#%% md\n"
    }
   }
  },
  {
   "cell_type": "code",
   "execution_count": 12,
   "outputs": [],
   "source": [
    "# feature selection\n",
    "def select_features(X_train, y_train, X_test):\n",
    "\t# configure to select all features\n",
    "\tfs = SelectKBest(score_func=f_classif, k='all')\n",
    "\t# learn relationship from training data\n",
    "\tfs.fit(X_train, y_train)\n",
    "\t# transform train input data\n",
    "\tX_train_fs = fs.transform(X_train)\n",
    "\t# transform test input data\n",
    "\tX_test_fs = fs.transform(X_test)\n",
    "\treturn X_train_fs, X_test_fs, fs"
   ],
   "metadata": {
    "collapsed": false,
    "pycharm": {
     "name": "#%%\n"
    }
   }
  },
  {
   "cell_type": "code",
   "execution_count": 13,
   "outputs": [],
   "source": [
    "# feature selection\n",
    "X_train_fs, X_test_fs, fs = select_features(X_train, y_train, X_test)"
   ],
   "metadata": {
    "collapsed": false,
    "pycharm": {
     "name": "#%%\n"
    }
   }
  },
  {
   "cell_type": "code",
   "execution_count": 14,
   "outputs": [
    {
     "name": "stdout",
     "output_type": "stream",
     "text": [
      "Feature 0: 8.870795\n",
      "Feature 1: 9660.990046\n",
      "Feature 2: 44164.394597\n",
      "Feature 3: 11662.180040\n",
      "Feature 4: 4575.998940\n",
      "Feature 5: 137669.200156\n",
      "Feature 6: 387.383394\n",
      "Feature 7: 513.179263\n",
      "Feature 8: 707.865880\n",
      "Feature 9: 928.340394\n",
      "Feature 10: 5.078751\n",
      "Feature 11: 24.981373\n",
      "Feature 12: 118.963527\n",
      "Feature 13: 292.505136\n",
      "Feature 14: 408.778512\n",
      "Feature 15: 1765.964776\n",
      "Feature 16: 3627.104724\n",
      "Feature 17: 4059.409609\n",
      "Feature 18: 34349.652402\n",
      "Feature 19: 52311.048727\n",
      "Feature 20: 57399.247633\n",
      "Feature 21: 52527.660504\n",
      "Feature 22: 14095.897255\n",
      "Feature 23: 29941.069922\n",
      "Feature 24: 37990.060592\n",
      "Feature 25: 37468.408339\n",
      "Feature 26: 414.031028\n",
      "Feature 27: 653.426885\n",
      "Feature 28: 810.325176\n",
      "Feature 29: 1017.056388\n",
      "Feature 30: 737.015438\n",
      "Feature 31: 2616.406070\n",
      "Feature 32: 2209.422653\n",
      "Feature 33: 1474.700227\n",
      "Feature 34: 604.149440\n",
      "Feature 35: 2125.517777\n",
      "Feature 36: 3355.970553\n",
      "Feature 37: 3755.279808\n",
      "Feature 38: 1934.342737\n",
      "Feature 39: 3408.563721\n",
      "Feature 40: 6396.842150\n",
      "Feature 41: 7379.106473\n",
      "Feature 42: 5514.419493\n",
      "Feature 43: 1.216325\n",
      "Feature 44: 30.377466\n",
      "Feature 45: 117.826865\n",
      "Feature 46: 190.775805\n",
      "Feature 47: 7707.517809\n",
      "Feature 48: 18255.774376\n",
      "Feature 49: 23140.130336\n",
      "Feature 50: 21662.092948\n",
      "Feature 51: 229.995103\n",
      "Feature 52: 362.267493\n",
      "Feature 53: 494.220820\n",
      "Feature 54: 685.321033\n",
      "Feature 55: 2188.376942\n",
      "Feature 56: 4665.023864\n",
      "Feature 57: 8197.608748\n",
      "Feature 58: 8765.068272\n",
      "Feature 59: 162689.880542\n",
      "Feature 60: 150176.436749\n",
      "Feature 61: 5541.572786\n",
      "Feature 62: 6387.656613\n",
      "Feature 63: 19.578225\n",
      "Feature 64: 909.226007\n",
      "Feature 65: 63.436415\n",
      "Feature 66: 6795.223546\n",
      "Feature 67: 77070.726815\n",
      "Feature 68: 136438.344942\n"
     ]
    },
    {
     "data": {
      "text/plain": "<Figure size 432x288 with 1 Axes>",
      "image/png": "[encoded data removed]"
     },
     "metadata": {},
     "output_type": "display_data"
    }
   ],
   "source": [
    "# what are scores for the features\n",
    "for i in range(len(fs.scores_)):\n",
    "\tprint('Feature %d: %f' % (i, fs.scores_[i]))\n",
    "# plot the scores\n",
    "plt.bar([i for i in range(len(fs.scores_))], fs.scores_)\n",
    "plt.show()"
   ],
   "metadata": {
    "collapsed": false,
    "pycharm": {
     "name": "#%%\n"
    }
   }
  },
  {
   "cell_type": "markdown",
   "source": [
    "The f-statistic is quite high for some variables\n",
    "\n",
    "Variance is the measurement of the spread between numbers in a variable. It measures how far a number is from the mean and every number in a variable.\n",
    "The variance of a feature determines how much it is impacting the response variable. If the variance is low, it implies there is no impact of this feature on response and vice-versa."
   ],
   "metadata": {
    "collapsed": false,
    "pycharm": {
     "name": "#%% md\n"
    }
   }
  },
  {
   "cell_type": "markdown",
   "source": [
    "<h3> Now, select the top 20 variables"
   ],
   "metadata": {
    "collapsed": false,
    "pycharm": {
     "name": "#%% md\n"
    }
   }
  },
  {
   "cell_type": "code",
   "execution_count": 18,
   "outputs": [],
   "source": [
    "# feature selection\n",
    "def select_features_20(X_train, y_train, X_test):\n",
    "\t# configure to select all features\n",
    "\tfs20 = SelectKBest(score_func=f_classif,k=20)\n",
    "\t# learn relationship from training data\n",
    "\tfs20.fit(X_train, y_train)\n",
    "\t# transform train input data\n",
    "\tX_train_fs20 = fs20.transform(X_train)\n",
    "\t# transform test input data\n",
    "\tX_test_fs20 = fs20.transform(X_test)\n",
    "\n",
    "\treturn X_train_fs20, X_test_fs20, fs20"
   ],
   "metadata": {
    "collapsed": false,
    "pycharm": {
     "name": "#%%\n"
    }
   }
  },
  {
   "cell_type": "code",
   "execution_count": 19,
   "outputs": [],
   "source": [
    "# feature selection\n",
    "X_train_fs20, X_test_fs20, fs20 = select_features_20(X_train, y_train, X_test)"
   ],
   "metadata": {
    "collapsed": false,
    "pycharm": {
     "name": "#%%\n"
    }
   }
  },
  {
   "cell_type": "code",
   "execution_count": 20,
   "outputs": [
    {
     "name": "stdout",
     "output_type": "stream",
     "text": [
      "Original number of features: (300000, 69)\n",
      "Reduced number of features: (300000, 20)\n"
     ]
    }
   ],
   "source": [
    "print('Original number of features:', X_test.shape)\n",
    "print('Reduced number of features:', X_test_fs20.shape)"
   ],
   "metadata": {
    "collapsed": false,
    "pycharm": {
     "name": "#%%\n"
    }
   }
  },
  {
   "cell_type": "code",
   "execution_count": 21,
   "outputs": [],
   "source": [
    "# get columns to keep and create new dataframe with those only\n",
    "cols = fs20.get_support(indices=True)\n",
    "# add target variable\n",
    "\n",
    "Anova_df = dr_df.iloc[:,cols]"
   ],
   "metadata": {
    "collapsed": false,
    "pycharm": {
     "name": "#%%\n"
    }
   }
  },
  {
   "cell_type": "code",
   "execution_count": 22,
   "outputs": [],
   "source": [
    "anova_dataframe = pd.concat([Anova_df,dr_df['Active_Next30Days_Cash_YN']],axis=1)"
   ],
   "metadata": {
    "collapsed": false,
    "pycharm": {
     "name": "#%%\n"
    }
   }
  },
  {
   "cell_type": "code",
   "execution_count": 35,
   "outputs": [
    {
     "data": {
      "text/plain": "   MonthNumber  ClientProfileSummary  Gender  CashActive_YN  L1DSBBetCount  \\\n0            1                     2       1              1              1   \n1            8                     2       1              0              0   \n2           12                     2       1              0              0   \n3            3                     2       1              0              0   \n4            9                     2       0              0              0   \n\n   L7DSBBetCount  L30DSBBetCount  L90DSBBetCount  L1DDepositCount  \\\n0              1               5              15                1   \n1              0               0               8                0   \n2              1              16              50                0   \n3              0               1               2                0   \n4              0               0               0                0   \n\n   L7DDepositCount  ...  L90DDepositCount  L7DOtherSportsBetCount  \\\n0                1  ...                12                       0   \n1                0  ...                 2                       0   \n2                0  ...                 1                       0   \n3                0  ...                 3                       0   \n4                0  ...                 0                       0   \n\n   L30DOtherSportsBetCount  L90DOtherSportsBetCount  \\\n0                        0                        2   \n1                        0                        4   \n2                        4                       14   \n3                        0                        0   \n4                        0                        0   \n\n   L90DUnsuccessfulDepositCount  DaysSinceLastSBCashAPD  DaysSinceLastSBAPD  \\\n0                             1                       0                   0   \n1                            12                      52                  52   \n2                             1                       2                   2   \n3                             0                      21                  18   \n4                             0                     200                 200   \n\n   OlderMale40  CustomerConcession90days  Active_Next30Days_Cash_YN  \n0          0.0                       1.0                        yes  \n1          0.0                       1.0                        yes  \n2          0.0                       1.0                        yes  \n3          1.0                       1.0                        yes  \n4          0.0                       0.0                         no  \n\n[5 rows x 21 columns]",
      "text/html": "<div>\n<style scoped>\n    .dataframe tbody tr th:only-of-type {\n        vertical-align: middle;\n    }\n\n    .dataframe tbody tr th {\n        vertical-align: top;\n    }\n\n    .dataframe thead th {\n        text-align: right;\n    }\n</style>\n<table border=\"1\" class=\"dataframe\">\n  <thead>\n    <tr style=\"text-align: right;\">\n      <th></th>\n      <th>MonthNumber</th>\n      <th>ClientProfileSummary</th>\n      <th>Gender</th>\n      <th>CashActive_YN</th>\n      <th>L1DSBBetCount</th>\n      <th>L7DSBBetCount</th>\n      <th>L30DSBBetCount</th>\n      <th>L90DSBBetCount</th>\n      <th>L1DDepositCount</th>\n      <th>L7DDepositCount</th>\n      <th>...</th>\n      <th>L90DDepositCount</th>\n      <th>L7DOtherSportsBetCount</th>\n      <th>L30DOtherSportsBetCount</th>\n      <th>L90DOtherSportsBetCount</th>\n      <th>L90DUnsuccessfulDepositCount</th>\n      <th>DaysSinceLastSBCashAPD</th>\n      <th>DaysSinceLastSBAPD</th>\n      <th>OlderMale40</th>\n      <th>CustomerConcession90days</th>\n      <th>Active_Next30Days_Cash_YN</th>\n    </tr>\n  </thead>\n  <tbody>\n    <tr>\n      <th>0</th>\n      <td>1</td>\n      <td>2</td>\n      <td>1</td>\n      <td>1</td>\n      <td>1</td>\n      <td>1</td>\n      <td>5</td>\n      <td>15</td>\n      <td>1</td>\n      <td>1</td>\n      <td>...</td>\n      <td>12</td>\n      <td>0</td>\n      <td>0</td>\n      <td>2</td>\n      <td>1</td>\n      <td>0</td>\n      <td>0</td>\n      <td>0.0</td>\n      <td>1.0</td>\n      <td>yes</td>\n    </tr>\n    <tr>\n      <th>1</th>\n      <td>8</td>\n      <td>2</td>\n      <td>1</td>\n      <td>0</td>\n      <td>0</td>\n      <td>0</td>\n      <td>0</td>\n      <td>8</td>\n      <td>0</td>\n      <td>0</td>\n      <td>...</td>\n      <td>2</td>\n      <td>0</td>\n      <td>0</td>\n      <td>4</td>\n      <td>12</td>\n      <td>52</td>\n      <td>52</td>\n      <td>0.0</td>\n      <td>1.0</td>\n      <td>yes</td>\n    </tr>\n    <tr>\n      <th>2</th>\n      <td>12</td>\n      <td>2</td>\n      <td>1</td>\n      <td>0</td>\n      <td>0</td>\n      <td>1</td>\n      <td>16</td>\n      <td>50</td>\n      <td>0</td>\n      <td>0</td>\n      <td>...</td>\n      <td>1</td>\n      <td>0</td>\n      <td>4</td>\n      <td>14</td>\n      <td>1</td>\n      <td>2</td>\n      <td>2</td>\n      <td>0.0</td>\n      <td>1.0</td>\n      <td>yes</td>\n    </tr>\n    <tr>\n      <th>3</th>\n      <td>3</td>\n      <td>2</td>\n      <td>1</td>\n      <td>0</td>\n      <td>0</td>\n      <td>0</td>\n      <td>1</td>\n      <td>2</td>\n      <td>0</td>\n      <td>0</td>\n      <td>...</td>\n      <td>3</td>\n      <td>0</td>\n      <td>0</td>\n      <td>0</td>\n      <td>0</td>\n      <td>21</td>\n      <td>18</td>\n      <td>1.0</td>\n      <td>1.0</td>\n      <td>yes</td>\n    </tr>\n    <tr>\n      <th>4</th>\n      <td>9</td>\n      <td>2</td>\n      <td>0</td>\n      <td>0</td>\n      <td>0</td>\n      <td>0</td>\n      <td>0</td>\n      <td>0</td>\n      <td>0</td>\n      <td>0</td>\n      <td>...</td>\n      <td>0</td>\n      <td>0</td>\n      <td>0</td>\n      <td>0</td>\n      <td>0</td>\n      <td>200</td>\n      <td>200</td>\n      <td>0.0</td>\n      <td>0.0</td>\n      <td>no</td>\n    </tr>\n  </tbody>\n</table>\n<p>5 rows × 21 columns</p>\n</div>"
     },
     "execution_count": 35,
     "metadata": {},
     "output_type": "execute_result"
    }
   ],
   "source": [
    "anova_dataframe.head()"
   ],
   "metadata": {
    "collapsed": false,
    "pycharm": {
     "name": "#%%\n"
    }
   }
  },
  {
   "cell_type": "code",
   "execution_count": 48,
   "outputs": [],
   "source": [
    "# convert columns to list\n",
    "anova_columns = list(anova_dataframe.columns)"
   ],
   "metadata": {
    "collapsed": false,
    "pycharm": {
     "name": "#%%\n"
    }
   }
  },
  {
   "cell_type": "markdown",
   "source": [
    "<h3> Kendall's Rank </h3>\n",
    "\n",
    "it helps to uncover complex and unknown relationships between the variables in your data set which you can’t tell just by looking at the data.\n",
    "\n",
    "Assumptions\n",
    "You need to check that your data satisfies the assumptions before you dive into using Kendall’s rank correlation. This will ensure that you have valid results that you can actually use and not just numbers on your monitor.\n",
    "\n",
    "The variables are measured on an ordinal or continuous scale. Ordinal scales are typically measures of non-numeric concepts like satisfaction, happiness, discomfort. e.g. Very Satisfied, Somewhat Satisfied, Neutral, Somewhat Unsatisfied, Very Unsatisfied. Continuous scales are essentially interval (i.e. temperature e.g. 30 degrees) or ratio variables (e.g. weight, height).\n",
    "Desirable if your data appears to follow a monotonic relationship. In simple terms, as the value of one variable increases, so does the other variable and as the value of once variable increases, the other variable decreases. Here’s why: Kendall’s rank correlation measures the strength and direction of association that exists (determines if there’s a monotonic relationship) between two variables. Knowing this, testing for the presence of a monotonic relationship makes sense. But, like I said, it is desirable.\n"
   ],
   "metadata": {
    "collapsed": false,
    "pycharm": {
     "name": "#%% md\n"
    }
   }
  },
  {
   "cell_type": "code",
   "execution_count": 58,
   "outputs": [],
   "source": [
    "kendall_test_df = dr_df\n",
    "kendall_test_df = kendall_test_df.drop('Unnamed: 0',axis=1)"
   ],
   "metadata": {
    "collapsed": false,
    "pycharm": {
     "name": "#%%\n"
    }
   }
  },
  {
   "cell_type": "code",
   "execution_count": 59,
   "outputs": [],
   "source": [
    "# remap target column to be numerical\n",
    "kendall_test_df['Active_Next30Days_Cash_YN'] = kendall_test_df['Active_Next30Days_Cash_YN'].replace({\"no\":0,\"yes\":1})\n",
    "\n",
    "int_cols = kendall_test_df.select_dtypes(include=\"int64\").columns\n",
    "kendall_test_df[int_cols] = kendall_test_df[int_cols].astype(\"float64\")"
   ],
   "metadata": {
    "collapsed": false,
    "pycharm": {
     "name": "#%%\n"
    }
   }
  },
  {
   "cell_type": "code",
   "execution_count": 60,
   "outputs": [
    {
     "name": "stderr",
     "output_type": "stream",
     "text": [
      "C:\\Users\\paulc\\anaconda3\\lib\\site-packages\\scipy\\stats\\stats.py:4812: RuntimeWarning: overflow encountered in longlong_scalars\n",
      "  (2 * xtie * ytie) / m + x0 * y0 / (9 * m * (size - 2)))\n"
     ]
    }
   ],
   "source": [
    "kendall_corr = kendall_test_df.corr(method=\"kendall\")"
   ],
   "metadata": {
    "collapsed": false,
    "pycharm": {
     "name": "#%%\n"
    }
   }
  },
  {
   "cell_type": "markdown",
   "source": [
    " RuntimeWarning: overflow encountered in longlong_scalars\n",
    "  (2 * xtie * ytie) / m + x0 * y0 / (9 * m * (size - 2)))"
   ],
   "metadata": {
    "collapsed": false,
    "pycharm": {
     "name": "#%% md\n"
    }
   }
  },
  {
   "cell_type": "markdown",
   "source": [
    "Normalize the columns to overcome avoce longlong_scalar error!"
   ],
   "metadata": {
    "collapsed": false,
    "pycharm": {
     "name": "#%% md\n"
    }
   }
  },
  {
   "cell_type": "code",
   "execution_count": 61,
   "outputs": [],
   "source": [
    "from sklearn.preprocessing import Normalizer\n",
    "# define min max scaler\n",
    "scaler = Normalizer()\n",
    "# transform data\n",
    "scaled = scaler.fit_transform(kendall_test_df)\n",
    "scaled = pd.DataFrame(scaled,columns=kendall_test_df.columns)"
   ],
   "metadata": {
    "collapsed": false,
    "pycharm": {
     "name": "#%%\n"
    }
   }
  },
  {
   "cell_type": "code",
   "execution_count": 62,
   "outputs": [
    {
     "data": {
      "text/plain": "        MonthNumber  ClientProfileSummary    Gender       Age  CashActive_YN  \\\n0          0.001668              0.003337  0.001668  0.061730       0.001668   \n1          0.016488              0.004122  0.002061  0.061832       0.000000   \n2          0.006615              0.001102  0.000551  0.016537       0.000000   \n3          0.002487              0.001658  0.000829  0.046416       0.000000   \n4          0.022299              0.004955  0.000000  0.099109       0.000000   \n...             ...                   ...       ...       ...            ...   \n999995     0.003261              0.003261  0.001631  0.045655       0.000000   \n999996     0.003522              0.000587  0.000294  0.011154       0.000294   \n999997     0.000180              0.000359  0.000180  0.006823       0.000180   \n999998     0.000457              0.000457  0.000229  0.008691       0.000229   \n999999     0.000675              0.000450  0.000225  0.008548       0.000225   \n\n        L1DSBTurnover  L7DSBTurnover  L30DSBTurnover  L90DSBTurnover  \\\n0            0.046715       0.046715        0.155159        0.338681   \n1            0.000000       0.000000        0.000000        0.160309   \n2            0.000000       0.005011        0.087238        0.642290   \n3            0.000000       0.000000        0.016577        0.033154   \n4            0.000000       0.000000        0.000000        0.000000   \n...               ...            ...             ...             ...   \n999995       0.000000       0.000000        0.000000        0.000000   \n999996       0.024950       0.096116        0.356317        0.656597   \n999997       0.017056       0.102916        0.331394        0.695499   \n999998       0.005718       0.022872        0.138660        0.755637   \n999999       0.009336       0.088350        0.202628        0.746476   \n\n        L1DSBNetRevenue  ...  DaysSinceLastSBAPD  DaysSinceOpened  \\\n0                   0.0  ...            0.000000         0.535550   \n1                   0.0  ...            0.107175         0.381296   \n2                   0.0  ...            0.001102         0.173087   \n3                   0.0  ...            0.014919         0.298387   \n4                   0.0  ...            0.495543         0.500498   \n...                 ...  ...                 ...              ...   \n999995              0.0  ...            0.223382         0.653841   \n999996              0.0  ...            0.000000         0.016731   \n999997              0.0  ...            0.000000         0.019749   \n999998              0.0  ...            0.000000         0.032478   \n999999              0.0  ...            0.000000         0.035318   \n\n        DaysSinceFirstBet  DaysFromOpenToFirstBet  Active_Next30Days_Cash_YN  \\\n0                0.535550                0.000000                   0.001668   \n1                0.381296                0.000000                   0.002061   \n2                0.173087                0.000000                   0.000551   \n3                0.297558                0.000829                   0.000829   \n4                0.498021                0.002478                   0.000000   \n...                   ...                     ...                        ...   \n999995           0.653841                0.000000                   0.000000   \n999996           0.016731                0.000000                   0.000294   \n999997           0.019749                0.000000                   0.000180   \n999998           0.032478                0.000000                   0.000229   \n999999           0.035318                0.000000                   0.000225   \n\n        BetOnRegistrationDay  YoungMale1840  OlderMale40  \\\n0                   0.001668       0.001668     0.000000   \n1                   0.002061       0.002061     0.000000   \n2                   0.000551       0.000551     0.000000   \n3                   0.000000       0.000000     0.000829   \n4                   0.000000       0.000000     0.000000   \n...                      ...            ...          ...   \n999995              0.001631       0.001631     0.000000   \n999996              0.000294       0.000294     0.000000   \n999997              0.000180       0.000180     0.000000   \n999998              0.000229       0.000229     0.000000   \n999999              0.000225       0.000225     0.000000   \n\n        CustomerConcession90days  CustomerConcession30days  \n0                       0.001668                  0.001668  \n1                       0.002061                  0.000000  \n2                       0.000551                  0.000551  \n3                       0.000829                  0.000829  \n4                       0.000000                  0.000000  \n...                          ...                       ...  \n999995                  0.000000                  0.000000  \n999996                  0.000294                  0.000294  \n999997                  0.000180                  0.000180  \n999998                  0.000229                  0.000229  \n999999                  0.000225                  0.000225  \n\n[1000000 rows x 69 columns]",
      "text/html": "<div>\n<style scoped>\n    .dataframe tbody tr th:only-of-type {\n        vertical-align: middle;\n    }\n\n    .dataframe tbody tr th {\n        vertical-align: top;\n    }\n\n    .dataframe thead th {\n        text-align: right;\n    }\n</style>\n<table border=\"1\" class=\"dataframe\">\n  <thead>\n    <tr style=\"text-align: right;\">\n      <th></th>\n      <th>MonthNumber</th>\n      <th>ClientProfileSummary</th>\n      <th>Gender</th>\n      <th>Age</th>\n      <th>CashActive_YN</th>\n      <th>L1DSBTurnover</th>\n      <th>L7DSBTurnover</th>\n      <th>L30DSBTurnover</th>\n      <th>L90DSBTurnover</th>\n      <th>L1DSBNetRevenue</th>\n      <th>...</th>\n      <th>DaysSinceLastSBAPD</th>\n      <th>DaysSinceOpened</th>\n      <th>DaysSinceFirstBet</th>\n      <th>DaysFromOpenToFirstBet</th>\n      <th>Active_Next30Days_Cash_YN</th>\n      <th>BetOnRegistrationDay</th>\n      <th>YoungMale1840</th>\n      <th>OlderMale40</th>\n      <th>CustomerConcession90days</th>\n      <th>CustomerConcession30days</th>\n    </tr>\n  </thead>\n  <tbody>\n    <tr>\n      <th>0</th>\n      <td>0.001668</td>\n      <td>0.003337</td>\n      <td>0.001668</td>\n      <td>0.061730</td>\n      <td>0.001668</td>\n      <td>0.046715</td>\n      <td>0.046715</td>\n      <td>0.155159</td>\n      <td>0.338681</td>\n      <td>0.0</td>\n      <td>...</td>\n      <td>0.000000</td>\n      <td>0.535550</td>\n      <td>0.535550</td>\n      <td>0.000000</td>\n      <td>0.001668</td>\n      <td>0.001668</td>\n      <td>0.001668</td>\n      <td>0.000000</td>\n      <td>0.001668</td>\n      <td>0.001668</td>\n    </tr>\n    <tr>\n      <th>1</th>\n      <td>0.016488</td>\n      <td>0.004122</td>\n      <td>0.002061</td>\n      <td>0.061832</td>\n      <td>0.000000</td>\n      <td>0.000000</td>\n      <td>0.000000</td>\n      <td>0.000000</td>\n      <td>0.160309</td>\n      <td>0.0</td>\n      <td>...</td>\n      <td>0.107175</td>\n      <td>0.381296</td>\n      <td>0.381296</td>\n      <td>0.000000</td>\n      <td>0.002061</td>\n      <td>0.002061</td>\n      <td>0.002061</td>\n      <td>0.000000</td>\n      <td>0.002061</td>\n      <td>0.000000</td>\n    </tr>\n    <tr>\n      <th>2</th>\n      <td>0.006615</td>\n      <td>0.001102</td>\n      <td>0.000551</td>\n      <td>0.016537</td>\n      <td>0.000000</td>\n      <td>0.000000</td>\n      <td>0.005011</td>\n      <td>0.087238</td>\n      <td>0.642290</td>\n      <td>0.0</td>\n      <td>...</td>\n      <td>0.001102</td>\n      <td>0.173087</td>\n      <td>0.173087</td>\n      <td>0.000000</td>\n      <td>0.000551</td>\n      <td>0.000551</td>\n      <td>0.000551</td>\n      <td>0.000000</td>\n      <td>0.000551</td>\n      <td>0.000551</td>\n    </tr>\n    <tr>\n      <th>3</th>\n      <td>0.002487</td>\n      <td>0.001658</td>\n      <td>0.000829</td>\n      <td>0.046416</td>\n      <td>0.000000</td>\n      <td>0.000000</td>\n      <td>0.000000</td>\n      <td>0.016577</td>\n      <td>0.033154</td>\n      <td>0.0</td>\n      <td>...</td>\n      <td>0.014919</td>\n      <td>0.298387</td>\n      <td>0.297558</td>\n      <td>0.000829</td>\n      <td>0.000829</td>\n      <td>0.000000</td>\n      <td>0.000000</td>\n      <td>0.000829</td>\n      <td>0.000829</td>\n      <td>0.000829</td>\n    </tr>\n    <tr>\n      <th>4</th>\n      <td>0.022299</td>\n      <td>0.004955</td>\n      <td>0.000000</td>\n      <td>0.099109</td>\n      <td>0.000000</td>\n      <td>0.000000</td>\n      <td>0.000000</td>\n      <td>0.000000</td>\n      <td>0.000000</td>\n      <td>0.0</td>\n      <td>...</td>\n      <td>0.495543</td>\n      <td>0.500498</td>\n      <td>0.498021</td>\n      <td>0.002478</td>\n      <td>0.000000</td>\n      <td>0.000000</td>\n      <td>0.000000</td>\n      <td>0.000000</td>\n      <td>0.000000</td>\n      <td>0.000000</td>\n    </tr>\n    <tr>\n      <th>...</th>\n      <td>...</td>\n      <td>...</td>\n      <td>...</td>\n      <td>...</td>\n      <td>...</td>\n      <td>...</td>\n      <td>...</td>\n      <td>...</td>\n      <td>...</td>\n      <td>...</td>\n      <td>...</td>\n      <td>...</td>\n      <td>...</td>\n      <td>...</td>\n      <td>...</td>\n      <td>...</td>\n      <td>...</td>\n      <td>...</td>\n      <td>...</td>\n      <td>...</td>\n      <td>...</td>\n    </tr>\n    <tr>\n      <th>999995</th>\n      <td>0.003261</td>\n      <td>0.003261</td>\n      <td>0.001631</td>\n      <td>0.045655</td>\n      <td>0.000000</td>\n      <td>0.000000</td>\n      <td>0.000000</td>\n      <td>0.000000</td>\n      <td>0.000000</td>\n      <td>0.0</td>\n      <td>...</td>\n      <td>0.223382</td>\n      <td>0.653841</td>\n      <td>0.653841</td>\n      <td>0.000000</td>\n      <td>0.000000</td>\n      <td>0.001631</td>\n      <td>0.001631</td>\n      <td>0.000000</td>\n      <td>0.000000</td>\n      <td>0.000000</td>\n    </tr>\n    <tr>\n      <th>999996</th>\n      <td>0.003522</td>\n      <td>0.000587</td>\n      <td>0.000294</td>\n      <td>0.011154</td>\n      <td>0.000294</td>\n      <td>0.024950</td>\n      <td>0.096116</td>\n      <td>0.356317</td>\n      <td>0.656597</td>\n      <td>0.0</td>\n      <td>...</td>\n      <td>0.000000</td>\n      <td>0.016731</td>\n      <td>0.016731</td>\n      <td>0.000000</td>\n      <td>0.000294</td>\n      <td>0.000294</td>\n      <td>0.000294</td>\n      <td>0.000000</td>\n      <td>0.000294</td>\n      <td>0.000294</td>\n    </tr>\n    <tr>\n      <th>999997</th>\n      <td>0.000180</td>\n      <td>0.000359</td>\n      <td>0.000180</td>\n      <td>0.006823</td>\n      <td>0.000180</td>\n      <td>0.017056</td>\n      <td>0.102916</td>\n      <td>0.331394</td>\n      <td>0.695499</td>\n      <td>0.0</td>\n      <td>...</td>\n      <td>0.000000</td>\n      <td>0.019749</td>\n      <td>0.019749</td>\n      <td>0.000000</td>\n      <td>0.000180</td>\n      <td>0.000180</td>\n      <td>0.000180</td>\n      <td>0.000000</td>\n      <td>0.000180</td>\n      <td>0.000180</td>\n    </tr>\n    <tr>\n      <th>999998</th>\n      <td>0.000457</td>\n      <td>0.000457</td>\n      <td>0.000229</td>\n      <td>0.008691</td>\n      <td>0.000229</td>\n      <td>0.005718</td>\n      <td>0.022872</td>\n      <td>0.138660</td>\n      <td>0.755637</td>\n      <td>0.0</td>\n      <td>...</td>\n      <td>0.000000</td>\n      <td>0.032478</td>\n      <td>0.032478</td>\n      <td>0.000000</td>\n      <td>0.000229</td>\n      <td>0.000229</td>\n      <td>0.000229</td>\n      <td>0.000000</td>\n      <td>0.000229</td>\n      <td>0.000229</td>\n    </tr>\n    <tr>\n      <th>999999</th>\n      <td>0.000675</td>\n      <td>0.000450</td>\n      <td>0.000225</td>\n      <td>0.008548</td>\n      <td>0.000225</td>\n      <td>0.009336</td>\n      <td>0.088350</td>\n      <td>0.202628</td>\n      <td>0.746476</td>\n      <td>0.0</td>\n      <td>...</td>\n      <td>0.000000</td>\n      <td>0.035318</td>\n      <td>0.035318</td>\n      <td>0.000000</td>\n      <td>0.000225</td>\n      <td>0.000225</td>\n      <td>0.000225</td>\n      <td>0.000000</td>\n      <td>0.000225</td>\n      <td>0.000225</td>\n    </tr>\n  </tbody>\n</table>\n<p>1000000 rows × 69 columns</p>\n</div>"
     },
     "execution_count": 62,
     "metadata": {},
     "output_type": "execute_result"
    }
   ],
   "source": [
    "scaled"
   ],
   "metadata": {
    "collapsed": false,
    "pycharm": {
     "name": "#%%\n"
    }
   }
  },
  {
   "cell_type": "code",
   "execution_count": 63,
   "outputs": [
    {
     "name": "stderr",
     "output_type": "stream",
     "text": [
      "C:\\Users\\paulc\\anaconda3\\lib\\site-packages\\scipy\\stats\\stats.py:4812: RuntimeWarning: overflow encountered in longlong_scalars\n",
      "  (2 * xtie * ytie) / m + x0 * y0 / (9 * m * (size - 2)))\n"
     ]
    }
   ],
   "source": [
    "kendall_corr = scaled.corr(method=\"kendall\")['Active_Next30Days_Cash_YN']"
   ],
   "metadata": {
    "collapsed": false,
    "pycharm": {
     "name": "#%%\n"
    }
   }
  },
  {
   "cell_type": "code",
   "execution_count": 66,
   "outputs": [
    {
     "data": {
      "text/plain": "<PIL.PngImagePlugin.PngImageFile image mode=RGBA size=794x356 at 0x2F5F3AC87F0>",
      "image/png": "[encoded data removed]"
     },
     "execution_count": 66,
     "metadata": {},
     "output_type": "execute_result"
    }
   ],
   "source": [
    "file = \"C:/Users/paulc/Documents/Data Analysis Courses/MastersChurn/Notes/kendall.png\"\n",
    "try:\n",
    "    img  = Image.open(file)\n",
    "except IOError:\n",
    "    pass\n",
    "\n",
    "img"
   ],
   "metadata": {
    "collapsed": false,
    "pycharm": {
     "name": "#%%\n"
    }
   }
  },
  {
   "cell_type": "code",
   "execution_count": 67,
   "outputs": [
    {
     "data": {
      "text/plain": "Active_Next30Days_Cash_YN    1.000000\nL7DSBBetCount                0.464604\nL30DSBBetCount               0.445412\nL7DSBTurnover                0.436577\nUS_SportsTurnover7D          0.412384\nL30DSBTurnover               0.408173\nUS_SportsTurnover30D         0.386683\nL30DOtherSportsBetCount      0.353664\nL90DSBBetCount               0.339919\nL90DOtherSportsBetCount      0.329525\nCashActive_YN                0.323312\nCustomerConcession30days     0.317568\nL1DSBBetCount                0.315356\nL90DSBTurnover               0.308782\nL1DSBTurnover                0.305064\nUS_SportsTurnover1D          0.303908\nL30DSBFreeBetsHandle         0.288136\nUS_SportsTurnover90D         0.285242\nL7DOtherSportsBetCount       0.279274\nL7DSBFreeBetsHandle          0.278531\nL30DDepositCount             0.269474\nName: Active_Next30Days_Cash_YN, dtype: float64"
     },
     "execution_count": 67,
     "metadata": {},
     "output_type": "execute_result"
    }
   ],
   "source": [
    "# pick the top 20 variables, include target so its 21.\n",
    "\n",
    "kendall_corr_positive = kendall_corr[kendall_corr  >= 0.1].nlargest(21)\n",
    "kendall_corr_positive"
   ],
   "metadata": {
    "collapsed": false,
    "pycharm": {
     "name": "#%%\n"
    }
   }
  },
  {
   "cell_type": "code",
   "execution_count": 68,
   "outputs": [
    {
     "name": "stdout",
     "output_type": "stream",
     "text": [
      "Active_Next30Days_Cash_YN\n",
      "L7DSBBetCount\n",
      "L30DSBBetCount\n",
      "L7DSBTurnover\n",
      "US_SportsTurnover7D\n",
      "L30DSBTurnover\n",
      "US_SportsTurnover30D\n",
      "L30DOtherSportsBetCount\n",
      "L90DSBBetCount\n",
      "L90DOtherSportsBetCount\n",
      "CashActive_YN\n",
      "CustomerConcession30days\n",
      "L1DSBBetCount\n",
      "L90DSBTurnover\n",
      "L1DSBTurnover\n",
      "US_SportsTurnover1D\n",
      "L30DSBFreeBetsHandle\n",
      "US_SportsTurnover90D\n",
      "L7DOtherSportsBetCount\n",
      "L7DSBFreeBetsHandle\n",
      "L30DDepositCount\n"
     ]
    }
   ],
   "source": [
    "# retrieve the columns\n",
    "\n",
    "for key, value in kendall_corr_positive.iteritems():\n",
    "\tprint(key)\n",
    "\tkendall_columns = kendall_corr_positive.keys()"
   ],
   "metadata": {
    "collapsed": false,
    "pycharm": {
     "name": "#%%\n"
    }
   }
  },
  {
   "cell_type": "code",
   "execution_count": 70,
   "outputs": [
    {
     "data": {
      "text/plain": "['Active_Next30Days_Cash_YN',\n 'L7DSBBetCount',\n 'L30DSBBetCount',\n 'L7DSBTurnover',\n 'US_SportsTurnover7D',\n 'L30DSBTurnover',\n 'US_SportsTurnover30D',\n 'L30DOtherSportsBetCount',\n 'L90DSBBetCount',\n 'L90DOtherSportsBetCount',\n 'CashActive_YN',\n 'CustomerConcession30days',\n 'L1DSBBetCount',\n 'L90DSBTurnover',\n 'L1DSBTurnover',\n 'US_SportsTurnover1D',\n 'L30DSBFreeBetsHandle',\n 'US_SportsTurnover90D',\n 'L7DOtherSportsBetCount',\n 'L7DSBFreeBetsHandle',\n 'L30DDepositCount']"
     },
     "execution_count": 70,
     "metadata": {},
     "output_type": "execute_result"
    }
   ],
   "source": [
    "kendall_columns = list(kendall_columns)\n",
    "kendall_columns"
   ],
   "metadata": {
    "collapsed": false,
    "pycharm": {
     "name": "#%%\n"
    }
   }
  },
  {
   "cell_type": "code",
   "execution_count": 71,
   "outputs": [],
   "source": [
    "# target variable is categorical so needs to be removed to filter df and then we can later join.\n",
    "\n",
    "kendall_columns = ['L7DSBBetCount','L30DSBBetCount','L7DSBTurnover','US_SportsTurnover7D','L30DSBTurnover','US_SportsTurnover30D',\n",
    " 'L30DOtherSportsBetCount','L90DSBBetCount','L90DOtherSportsBetCount','CashActive_YN','CustomerConcession30days',\n",
    " 'L1DSBBetCount','L90DSBTurnover','L1DSBTurnover','US_SportsTurnover1D','L30DSBFreeBetsHandle','US_SportsTurnover90D','L7DOtherSportsBetCount',\n",
    "'L7DSBFreeBetsHandle','L30DDepositCount']"
   ],
   "metadata": {
    "collapsed": false,
    "pycharm": {
     "name": "#%%\n"
    }
   }
  },
  {
   "cell_type": "code",
   "execution_count": 72,
   "outputs": [],
   "source": [
    "kendall_df = dr_df.loc[:,kendall_columns]"
   ],
   "metadata": {
    "collapsed": false,
    "pycharm": {
     "name": "#%%\n"
    }
   }
  },
  {
   "cell_type": "code",
   "execution_count": 73,
   "outputs": [],
   "source": [
    "kendall_dataframe = pd.concat([kendall_df,dr_df['Active_Next30Days_Cash_YN']],axis=1)"
   ],
   "metadata": {
    "collapsed": false,
    "pycharm": {
     "name": "#%%\n"
    }
   }
  },
  {
   "cell_type": "code",
   "execution_count": 74,
   "outputs": [
    {
     "data": {
      "text/plain": "   L7DSBBetCount  L30DSBBetCount  L7DSBTurnover  US_SportsTurnover7D  \\\n0            1.0             5.0          28.00                28.00   \n1            0.0             0.0           0.00                 0.00   \n2            1.0            16.0           9.09                 9.09   \n3            0.0             1.0           0.00                 0.00   \n4            0.0             0.0           0.00                 0.00   \n\n   L30DSBTurnover  US_SportsTurnover30D  L30DOtherSportsBetCount  \\\n0           93.00                 93.00                      0.0   \n1            0.00                  0.00                      0.0   \n2          158.26                132.27                      4.0   \n3           20.00                 20.00                      0.0   \n4            0.00                  0.00                      0.0   \n\n   L90DSBBetCount  L90DOtherSportsBetCount  CashActive_YN  ...  L1DSBBetCount  \\\n0            15.0                      2.0            1.0  ...            1.0   \n1             8.0                      4.0            0.0  ...            0.0   \n2            50.0                     14.0            0.0  ...            0.0   \n3             2.0                      0.0            0.0  ...            0.0   \n4             0.0                      0.0            0.0  ...            0.0   \n\n   L90DSBTurnover  L1DSBTurnover  US_SportsTurnover1D  L30DSBFreeBetsHandle  \\\n0          203.00           28.0                 28.0                  40.0   \n1           77.78            0.0                  0.0                   0.0   \n2         1165.19            0.0                  0.0                  40.0   \n3           40.00            0.0                  0.0                  30.0   \n4            0.00            0.0                  0.0                   0.0   \n\n   US_SportsTurnover90D  L7DOtherSportsBetCount  L7DSBFreeBetsHandle  \\\n0                173.00                     0.0                 10.0   \n1                 52.08                     0.0                  0.0   \n2                840.07                     0.0                 10.0   \n3                 40.00                     0.0                  0.0   \n4                  0.00                     0.0                  0.0   \n\n   L30DDepositCount  Active_Next30Days_Cash_YN  \n0               5.0                        1.0  \n1               0.0                        1.0  \n2               0.0                        1.0  \n3               2.0                        1.0  \n4               0.0                        0.0  \n\n[5 rows x 21 columns]",
      "text/html": "<div>\n<style scoped>\n    .dataframe tbody tr th:only-of-type {\n        vertical-align: middle;\n    }\n\n    .dataframe tbody tr th {\n        vertical-align: top;\n    }\n\n    .dataframe thead th {\n        text-align: right;\n    }\n</style>\n<table border=\"1\" class=\"dataframe\">\n  <thead>\n    <tr style=\"text-align: right;\">\n      <th></th>\n      <th>L7DSBBetCount</th>\n      <th>L30DSBBetCount</th>\n      <th>L7DSBTurnover</th>\n      <th>US_SportsTurnover7D</th>\n      <th>L30DSBTurnover</th>\n      <th>US_SportsTurnover30D</th>\n      <th>L30DOtherSportsBetCount</th>\n      <th>L90DSBBetCount</th>\n      <th>L90DOtherSportsBetCount</th>\n      <th>CashActive_YN</th>\n      <th>...</th>\n      <th>L1DSBBetCount</th>\n      <th>L90DSBTurnover</th>\n      <th>L1DSBTurnover</th>\n      <th>US_SportsTurnover1D</th>\n      <th>L30DSBFreeBetsHandle</th>\n      <th>US_SportsTurnover90D</th>\n      <th>L7DOtherSportsBetCount</th>\n      <th>L7DSBFreeBetsHandle</th>\n      <th>L30DDepositCount</th>\n      <th>Active_Next30Days_Cash_YN</th>\n    </tr>\n  </thead>\n  <tbody>\n    <tr>\n      <th>0</th>\n      <td>1.0</td>\n      <td>5.0</td>\n      <td>28.00</td>\n      <td>28.00</td>\n      <td>93.00</td>\n      <td>93.00</td>\n      <td>0.0</td>\n      <td>15.0</td>\n      <td>2.0</td>\n      <td>1.0</td>\n      <td>...</td>\n      <td>1.0</td>\n      <td>203.00</td>\n      <td>28.0</td>\n      <td>28.0</td>\n      <td>40.0</td>\n      <td>173.00</td>\n      <td>0.0</td>\n      <td>10.0</td>\n      <td>5.0</td>\n      <td>1.0</td>\n    </tr>\n    <tr>\n      <th>1</th>\n      <td>0.0</td>\n      <td>0.0</td>\n      <td>0.00</td>\n      <td>0.00</td>\n      <td>0.00</td>\n      <td>0.00</td>\n      <td>0.0</td>\n      <td>8.0</td>\n      <td>4.0</td>\n      <td>0.0</td>\n      <td>...</td>\n      <td>0.0</td>\n      <td>77.78</td>\n      <td>0.0</td>\n      <td>0.0</td>\n      <td>0.0</td>\n      <td>52.08</td>\n      <td>0.0</td>\n      <td>0.0</td>\n      <td>0.0</td>\n      <td>1.0</td>\n    </tr>\n    <tr>\n      <th>2</th>\n      <td>1.0</td>\n      <td>16.0</td>\n      <td>9.09</td>\n      <td>9.09</td>\n      <td>158.26</td>\n      <td>132.27</td>\n      <td>4.0</td>\n      <td>50.0</td>\n      <td>14.0</td>\n      <td>0.0</td>\n      <td>...</td>\n      <td>0.0</td>\n      <td>1165.19</td>\n      <td>0.0</td>\n      <td>0.0</td>\n      <td>40.0</td>\n      <td>840.07</td>\n      <td>0.0</td>\n      <td>10.0</td>\n      <td>0.0</td>\n      <td>1.0</td>\n    </tr>\n    <tr>\n      <th>3</th>\n      <td>0.0</td>\n      <td>1.0</td>\n      <td>0.00</td>\n      <td>0.00</td>\n      <td>20.00</td>\n      <td>20.00</td>\n      <td>0.0</td>\n      <td>2.0</td>\n      <td>0.0</td>\n      <td>0.0</td>\n      <td>...</td>\n      <td>0.0</td>\n      <td>40.00</td>\n      <td>0.0</td>\n      <td>0.0</td>\n      <td>30.0</td>\n      <td>40.00</td>\n      <td>0.0</td>\n      <td>0.0</td>\n      <td>2.0</td>\n      <td>1.0</td>\n    </tr>\n    <tr>\n      <th>4</th>\n      <td>0.0</td>\n      <td>0.0</td>\n      <td>0.00</td>\n      <td>0.00</td>\n      <td>0.00</td>\n      <td>0.00</td>\n      <td>0.0</td>\n      <td>0.0</td>\n      <td>0.0</td>\n      <td>0.0</td>\n      <td>...</td>\n      <td>0.0</td>\n      <td>0.00</td>\n      <td>0.0</td>\n      <td>0.0</td>\n      <td>0.0</td>\n      <td>0.00</td>\n      <td>0.0</td>\n      <td>0.0</td>\n      <td>0.0</td>\n      <td>0.0</td>\n    </tr>\n  </tbody>\n</table>\n<p>5 rows × 21 columns</p>\n</div>"
     },
     "execution_count": 74,
     "metadata": {},
     "output_type": "execute_result"
    }
   ],
   "source": [
    "kendall_dataframe.head()"
   ],
   "metadata": {
    "collapsed": false,
    "pycharm": {
     "name": "#%%\n"
    }
   }
  },
  {
   "cell_type": "code",
   "execution_count": 75,
   "outputs": [
    {
     "data": {
      "text/plain": "   MonthNumber  ClientProfileSummary  Gender  CashActive_YN  L1DSBBetCount  \\\n0            1                     2       1              1              1   \n1            8                     2       1              0              0   \n2           12                     2       1              0              0   \n3            3                     2       1              0              0   \n4            9                     2       0              0              0   \n\n   L7DSBBetCount  L30DSBBetCount  L90DSBBetCount  L1DDepositCount  \\\n0              1               5              15                1   \n1              0               0               8                0   \n2              1              16              50                0   \n3              0               1               2                0   \n4              0               0               0                0   \n\n   L7DDepositCount  ...  L90DDepositCount  L7DOtherSportsBetCount  \\\n0                1  ...                12                       0   \n1                0  ...                 2                       0   \n2                0  ...                 1                       0   \n3                0  ...                 3                       0   \n4                0  ...                 0                       0   \n\n   L30DOtherSportsBetCount  L90DOtherSportsBetCount  \\\n0                        0                        2   \n1                        0                        4   \n2                        4                       14   \n3                        0                        0   \n4                        0                        0   \n\n   L90DUnsuccessfulDepositCount  DaysSinceLastSBCashAPD  DaysSinceLastSBAPD  \\\n0                             1                       0                   0   \n1                            12                      52                  52   \n2                             1                       2                   2   \n3                             0                      21                  18   \n4                             0                     200                 200   \n\n   OlderMale40  CustomerConcession90days  Active_Next30Days_Cash_YN  \n0          0.0                       1.0                        yes  \n1          0.0                       1.0                        yes  \n2          0.0                       1.0                        yes  \n3          1.0                       1.0                        yes  \n4          0.0                       0.0                         no  \n\n[5 rows x 21 columns]",
      "text/html": "<div>\n<style scoped>\n    .dataframe tbody tr th:only-of-type {\n        vertical-align: middle;\n    }\n\n    .dataframe tbody tr th {\n        vertical-align: top;\n    }\n\n    .dataframe thead th {\n        text-align: right;\n    }\n</style>\n<table border=\"1\" class=\"dataframe\">\n  <thead>\n    <tr style=\"text-align: right;\">\n      <th></th>\n      <th>MonthNumber</th>\n      <th>ClientProfileSummary</th>\n      <th>Gender</th>\n      <th>CashActive_YN</th>\n      <th>L1DSBBetCount</th>\n      <th>L7DSBBetCount</th>\n      <th>L30DSBBetCount</th>\n      <th>L90DSBBetCount</th>\n      <th>L1DDepositCount</th>\n      <th>L7DDepositCount</th>\n      <th>...</th>\n      <th>L90DDepositCount</th>\n      <th>L7DOtherSportsBetCount</th>\n      <th>L30DOtherSportsBetCount</th>\n      <th>L90DOtherSportsBetCount</th>\n      <th>L90DUnsuccessfulDepositCount</th>\n      <th>DaysSinceLastSBCashAPD</th>\n      <th>DaysSinceLastSBAPD</th>\n      <th>OlderMale40</th>\n      <th>CustomerConcession90days</th>\n      <th>Active_Next30Days_Cash_YN</th>\n    </tr>\n  </thead>\n  <tbody>\n    <tr>\n      <th>0</th>\n      <td>1</td>\n      <td>2</td>\n      <td>1</td>\n      <td>1</td>\n      <td>1</td>\n      <td>1</td>\n      <td>5</td>\n      <td>15</td>\n      <td>1</td>\n      <td>1</td>\n      <td>...</td>\n      <td>12</td>\n      <td>0</td>\n      <td>0</td>\n      <td>2</td>\n      <td>1</td>\n      <td>0</td>\n      <td>0</td>\n      <td>0.0</td>\n      <td>1.0</td>\n      <td>yes</td>\n    </tr>\n    <tr>\n      <th>1</th>\n      <td>8</td>\n      <td>2</td>\n      <td>1</td>\n      <td>0</td>\n      <td>0</td>\n      <td>0</td>\n      <td>0</td>\n      <td>8</td>\n      <td>0</td>\n      <td>0</td>\n      <td>...</td>\n      <td>2</td>\n      <td>0</td>\n      <td>0</td>\n      <td>4</td>\n      <td>12</td>\n      <td>52</td>\n      <td>52</td>\n      <td>0.0</td>\n      <td>1.0</td>\n      <td>yes</td>\n    </tr>\n    <tr>\n      <th>2</th>\n      <td>12</td>\n      <td>2</td>\n      <td>1</td>\n      <td>0</td>\n      <td>0</td>\n      <td>1</td>\n      <td>16</td>\n      <td>50</td>\n      <td>0</td>\n      <td>0</td>\n      <td>...</td>\n      <td>1</td>\n      <td>0</td>\n      <td>4</td>\n      <td>14</td>\n      <td>1</td>\n      <td>2</td>\n      <td>2</td>\n      <td>0.0</td>\n      <td>1.0</td>\n      <td>yes</td>\n    </tr>\n    <tr>\n      <th>3</th>\n      <td>3</td>\n      <td>2</td>\n      <td>1</td>\n      <td>0</td>\n      <td>0</td>\n      <td>0</td>\n      <td>1</td>\n      <td>2</td>\n      <td>0</td>\n      <td>0</td>\n      <td>...</td>\n      <td>3</td>\n      <td>0</td>\n      <td>0</td>\n      <td>0</td>\n      <td>0</td>\n      <td>21</td>\n      <td>18</td>\n      <td>1.0</td>\n      <td>1.0</td>\n      <td>yes</td>\n    </tr>\n    <tr>\n      <th>4</th>\n      <td>9</td>\n      <td>2</td>\n      <td>0</td>\n      <td>0</td>\n      <td>0</td>\n      <td>0</td>\n      <td>0</td>\n      <td>0</td>\n      <td>0</td>\n      <td>0</td>\n      <td>...</td>\n      <td>0</td>\n      <td>0</td>\n      <td>0</td>\n      <td>0</td>\n      <td>0</td>\n      <td>200</td>\n      <td>200</td>\n      <td>0.0</td>\n      <td>0.0</td>\n      <td>no</td>\n    </tr>\n  </tbody>\n</table>\n<p>5 rows × 21 columns</p>\n</div>"
     },
     "execution_count": 75,
     "metadata": {},
     "output_type": "execute_result"
    }
   ],
   "source": [
    "anova_dataframe.head()"
   ],
   "metadata": {
    "collapsed": false,
    "pycharm": {
     "name": "#%%\n"
    }
   }
  },
  {
   "cell_type": "markdown",
   "source": [
    "Save down the dataframes"
   ],
   "metadata": {
    "collapsed": false,
    "pycharm": {
     "name": "#%% md\n"
    }
   }
  },
  {
   "cell_type": "code",
   "execution_count": 78,
   "outputs": [],
   "source": [
    "#kendall_dataframe.to_csv('C:/Users/paulc/Documents/Data Analysis Courses/MastersChurn/ProjectWork/kendall_dataframe.csv',index=False)\n",
    "#anova_dataframe.to_csv('C:/Users/paulc/Documents/Data Analysis Courses/MastersChurn/ProjectWork/anova_dataframe.csv',index=False)"
   ],
   "metadata": {
    "collapsed": false,
    "pycharm": {
     "name": "#%%\n"
    }
   }
  },
  {
   "cell_type": "markdown",
   "source": [
    "Create a unified dataframe with columns extracted from kendall and anova tests"
   ],
   "metadata": {
    "collapsed": false,
    "pycharm": {
     "name": "#%% md\n"
    }
   }
  },
  {
   "cell_type": "code",
   "execution_count": 26,
   "outputs": [],
   "source": [
    "import pandas as pd\n",
    "\n",
    "anova_dataframe = pd.read_csv('C:/Users/paulc/Documents/Data Analysis Courses/MastersChurn/ProjectWork/anova_dataframe.csv')\n",
    "kendall_dataframe = pd.read_csv('C:/Users/paulc/Documents/Data Analysis Courses/MastersChurn/ProjectWork/kendall_dataframe.csv')\n",
    "churn = pd.read_csv('C:/Users/paulc/Documents/Data Analysis Courses/MastersChurn/ProjectWork/ChurnModelDataFrame.csv')"
   ],
   "metadata": {
    "collapsed": false,
    "pycharm": {
     "name": "#%%\n"
    }
   }
  },
  {
   "cell_type": "code",
   "execution_count": 25,
   "outputs": [
    {
     "data": {
      "text/plain": "(1000000, 21)"
     },
     "execution_count": 25,
     "metadata": {},
     "output_type": "execute_result"
    }
   ],
   "source": [
    "kendall_dataframe.shape"
   ],
   "metadata": {
    "collapsed": false,
    "pycharm": {
     "name": "#%%\n"
    }
   }
  },
  {
   "cell_type": "code",
   "execution_count": 19,
   "outputs": [
    {
     "data": {
      "text/plain": "(1000000, 21)"
     },
     "execution_count": 19,
     "metadata": {},
     "output_type": "execute_result"
    }
   ],
   "source": [
    "anova_dataframe.shape"
   ],
   "metadata": {
    "collapsed": false,
    "pycharm": {
     "name": "#%%\n"
    }
   }
  },
  {
   "cell_type": "code",
   "execution_count": 4,
   "outputs": [
    {
     "data": {
      "text/plain": "Index(['MonthNumber', 'ClientProfileSummary', 'Gender', 'CashActive_YN',\n       'L1DSBBetCount', 'L7DSBBetCount', 'L30DSBBetCount', 'L90DSBBetCount',\n       'L1DDepositCount', 'L7DDepositCount', 'L30DDepositCount',\n       'L90DDepositCount', 'L7DOtherSportsBetCount', 'L30DOtherSportsBetCount',\n       'L90DOtherSportsBetCount', 'L90DUnsuccessfulDepositCount',\n       'DaysSinceLastSBCashAPD', 'DaysSinceLastSBAPD', 'OlderMale40',\n       'CustomerConcession90days', 'Active_Next30Days_Cash_YN'],\n      dtype='object')"
     },
     "execution_count": 4,
     "metadata": {},
     "output_type": "execute_result"
    }
   ],
   "source": [
    "anova_dataframe.columns"
   ],
   "metadata": {
    "collapsed": false,
    "pycharm": {
     "name": "#%%\n"
    }
   }
  },
  {
   "cell_type": "code",
   "execution_count": 27,
   "outputs": [],
   "source": [
    "churn = churn[['MonthNumber', 'ClientProfileSummary', 'Gender', 'CashActive_YN',\n",
    "       'L1DSBBetCount', 'L7DSBBetCount', 'L30DSBBetCount', 'L90DSBBetCount',\n",
    "       'L1DDepositCount', 'L7DDepositCount', 'L30DDepositCount',\n",
    "       'L90DDepositCount', 'L7DOtherSportsBetCount', 'L30DOtherSportsBetCount',\n",
    "       'L90DOtherSportsBetCount', 'L90DUnsuccessfulDepositCount',\n",
    "       'DaysSinceLastSBCashAPD', 'DaysSinceLastSBAPD', 'OlderMale40',\n",
    "       'CustomerConcession90days', 'Active_Next30Days_Cash_YN','L7DSBBetCount','L30DSBBetCount','L7DSBTurnover','US_SportsTurnover7D','L30DSBTurnover','US_SportsTurnover30D',\n",
    " 'L30DOtherSportsBetCount','L90DSBBetCount','L90DOtherSportsBetCount','CashActive_YN','CustomerConcession30days',\n",
    " 'L1DSBBetCount','L90DSBTurnover','L1DSBTurnover','US_SportsTurnover1D','L30DSBFreeBetsHandle','US_SportsTurnover90D','L7DOtherSportsBetCount',\n",
    "'L7DSBFreeBetsHandle','L30DDepositCount','Active_Next30Days_Cash_YN']]"
   ],
   "metadata": {
    "collapsed": false,
    "pycharm": {
     "name": "#%%\n"
    }
   }
  },
  {
   "cell_type": "code",
   "execution_count": 28,
   "outputs": [
    {
     "data": {
      "text/plain": "(1000000, 42)"
     },
     "execution_count": 28,
     "metadata": {},
     "output_type": "execute_result"
    }
   ],
   "source": [
    "churn.shape"
   ],
   "metadata": {
    "collapsed": false,
    "pycharm": {
     "name": "#%%\n"
    }
   }
  },
  {
   "cell_type": "code",
   "execution_count": 17,
   "outputs": [
    {
     "data": {
      "text/plain": "Index(['MonthNumber', 'ClientProfileSummary', 'Gender', 'CashActive_YN',\n       'L1DSBBetCount', 'L7DSBBetCount', 'L30DSBBetCount', 'L90DSBBetCount',\n       'L1DDepositCount', 'L7DDepositCount', 'L30DDepositCount',\n       'L90DDepositCount', 'L7DOtherSportsBetCount', 'L30DOtherSportsBetCount',\n       'L90DOtherSportsBetCount', 'L90DUnsuccessfulDepositCount',\n       'DaysSinceLastSBCashAPD', 'DaysSinceLastSBAPD', 'OlderMale40',\n       'CustomerConcession90days', 'Active_Next30Days_Cash_YN',\n       'L7DSBBetCount', 'L30DSBBetCount', 'L7DSBTurnover',\n       'US_SportsTurnover7D', 'L30DSBTurnover', 'US_SportsTurnover30D',\n       'L30DOtherSportsBetCount', 'L90DSBBetCount', 'L90DOtherSportsBetCount',\n       'CashActive_YN', 'CustomerConcession30days', 'L1DSBBetCount',\n       'L90DSBTurnover', 'L1DSBTurnover', 'US_SportsTurnover1D',\n       'L30DSBFreeBetsHandle', 'US_SportsTurnover90D',\n       'L7DOtherSportsBetCount', 'L7DSBFreeBetsHandle', 'L30DDepositCount'],\n      dtype='object')"
     },
     "execution_count": 17,
     "metadata": {},
     "output_type": "execute_result"
    }
   ],
   "source": [
    "churn.columns"
   ],
   "metadata": {
    "collapsed": false,
    "pycharm": {
     "name": "#%%\n"
    }
   }
  },
  {
   "cell_type": "code",
   "execution_count": 29,
   "outputs": [],
   "source": [
    "churn.to_csv('C:/Users/paulc/Documents/Data Analysis Courses/MastersChurn/ProjectWork/ChurnModelv1.csv',index=False)"
   ],
   "metadata": {
    "collapsed": false,
    "pycharm": {
     "name": "#%%\n"
    }
   }
  },
  {
   "cell_type": "code",
   "execution_count": 3,
   "outputs": [],
   "source": [
    "df = pd.read_csv('C:/Users/paulc/Documents/Data Analysis Courses/MastersChurn/ProjectWork/ChurnModelv1.csv')"
   ],
   "metadata": {
    "collapsed": false,
    "pycharm": {
     "name": "#%%\n"
    }
   }
  },
  {
   "cell_type": "markdown",
   "source": [
    "<h3> Scale the dataset prior to modelling </h3>\n",
    "StandardScaler is the industry’s go-to algorithm. 🙂\n",
    "\n",
    "StandardScaler standardizes a feature by subtracting the mean and then scaling to unit variance. Unit variance means dividing all the values by the standard deviation.\n",
    "\n",
    "StandardScaler results in a distribution with a standard deviation equal to 1. The variance is equal to 1 also, because variance = standard deviation squared. And 1 squared = 1.\n",
    "\n",
    "StandardScaler makes the mean of the distribution approximately 0.\n",
    "\n"
   ],
   "metadata": {
    "collapsed": false,
    "pycharm": {
     "name": "#%% md\n"
    }
   }
  },
  {
   "cell_type": "code",
   "execution_count": 8,
   "outputs": [],
   "source": [
    "from sklearn.preprocessing import MinMaxScaler\n",
    "\n",
    "# define standard scaler\n",
    "scaler = MinMaxScaler()\n",
    "# transform data\n",
    "scaled = scaler.fit_transform(df)\n"
   ],
   "metadata": {
    "collapsed": false,
    "pycharm": {
     "name": "#%%\n"
    }
   }
  },
  {
   "cell_type": "code",
   "execution_count": 9,
   "outputs": [
    {
     "data": {
      "text/plain": "        MonthNumber  ClientProfileSummary  Gender  CashActive_YN  \\\n0          0.000000              0.166667     1.0            1.0   \n1          0.636364              0.166667     1.0            0.0   \n2          1.000000              0.166667     1.0            0.0   \n3          0.181818              0.166667     1.0            0.0   \n4          0.727273              0.166667     0.0            0.0   \n...             ...                   ...     ...            ...   \n999995     0.090909              0.166667     1.0            0.0   \n999996     1.000000              0.166667     1.0            1.0   \n999997     0.000000              0.166667     1.0            1.0   \n999998     0.090909              0.166667     1.0            1.0   \n999999     0.181818              0.166667     1.0            1.0   \n\n        L1DSBBetCount  L7DSBBetCount  L30DSBBetCount  L90DSBBetCount  \\\n0            0.004367       0.000925        0.001623        0.002450   \n1            0.000000       0.000000        0.000000        0.001307   \n2            0.000000       0.000925        0.005193        0.008166   \n3            0.000000       0.000000        0.000325        0.000327   \n4            0.000000       0.000000        0.000000        0.000000   \n...               ...            ...             ...             ...   \n999995       0.000000       0.000000        0.000000        0.000000   \n999996       0.017467       0.013876        0.017527        0.019272   \n999997       0.017467       0.014801        0.016878        0.022211   \n999998       0.004367       0.003700        0.007465        0.016985   \n999999       0.004367       0.007401        0.008114        0.016169   \n\n        L1DDepositCount  L7DDepositCount  ...  US_SportsTurnover7D  \\\n0              0.005319         0.004255  ...             0.000004   \n1              0.000000         0.000000  ...             0.000000   \n2              0.000000         0.000000  ...             0.000001   \n3              0.000000         0.000000  ...             0.000000   \n4              0.000000         0.000000  ...             0.000000   \n...                 ...              ...  ...                  ...   \n999995         0.000000         0.000000  ...             0.000000   \n999996         0.000000         0.000000  ...             0.000048   \n999997         0.000000         0.000000  ...             0.000056   \n999998         0.000000         0.000000  ...             0.000004   \n999999         0.000000         0.000000  ...             0.000054   \n\n        L30DSBTurnover  US_SportsTurnover30D  CustomerConcession30days  \\\n0             0.000005              0.000005                       1.0   \n1             0.000000              0.000000                       0.0   \n2             0.000009              0.000007                       1.0   \n3             0.000001              0.000001                       1.0   \n4             0.000000              0.000000                       0.0   \n...                ...                   ...                       ...   \n999995        0.000000              0.000000                       0.0   \n999996        0.000065              0.000051                       1.0   \n999997        0.000100              0.000079                       1.0   \n999998        0.000033              0.000010                       1.0   \n999999        0.000049              0.000029                       1.0   \n\n        L90DSBTurnover  L1DSBTurnover  US_SportsTurnover1D  \\\n0             0.000008       0.000026             0.000016   \n1             0.000003       0.000000             0.000000   \n2             0.000049       0.000000             0.000000   \n3             0.000002       0.000000             0.000000   \n4             0.000000       0.000000             0.000000   \n...                ...            ...                  ...   \n999995        0.000000       0.000000             0.000000   \n999996        0.000093       0.000077             0.000047   \n999997        0.000161       0.000087             0.000000   \n999998        0.000138       0.000023             0.000014   \n999999        0.000138       0.000038             0.000023   \n\n        L30DSBFreeBetsHandle  US_SportsTurnover90D  L7DSBFreeBetsHandle  \n0                   0.000200              0.000007             0.000073  \n1                   0.000000              0.000002             0.000000  \n2                   0.000200              0.000036             0.000073  \n3                   0.000150              0.000002             0.000000  \n4                   0.000000              0.000000             0.000000  \n...                      ...                   ...                  ...  \n999995              0.000000              0.000000             0.000000  \n999996              0.000200              0.000070             0.000073  \n999997              0.000699              0.000134             0.000000  \n999998              0.000200              0.000107             0.000000  \n999999              0.000100              0.000102             0.000000  \n\n[1000000 rows x 32 columns]",
      "text/html": "<div>\n<style scoped>\n    .dataframe tbody tr th:only-of-type {\n        vertical-align: middle;\n    }\n\n    .dataframe tbody tr th {\n        vertical-align: top;\n    }\n\n    .dataframe thead th {\n        text-align: right;\n    }\n</style>\n<table border=\"1\" class=\"dataframe\">\n  <thead>\n    <tr style=\"text-align: right;\">\n      <th></th>\n      <th>MonthNumber</th>\n      <th>ClientProfileSummary</th>\n      <th>Gender</th>\n      <th>CashActive_YN</th>\n      <th>L1DSBBetCount</th>\n      <th>L7DSBBetCount</th>\n      <th>L30DSBBetCount</th>\n      <th>L90DSBBetCount</th>\n      <th>L1DDepositCount</th>\n      <th>L7DDepositCount</th>\n      <th>...</th>\n      <th>US_SportsTurnover7D</th>\n      <th>L30DSBTurnover</th>\n      <th>US_SportsTurnover30D</th>\n      <th>CustomerConcession30days</th>\n      <th>L90DSBTurnover</th>\n      <th>L1DSBTurnover</th>\n      <th>US_SportsTurnover1D</th>\n      <th>L30DSBFreeBetsHandle</th>\n      <th>US_SportsTurnover90D</th>\n      <th>L7DSBFreeBetsHandle</th>\n    </tr>\n  </thead>\n  <tbody>\n    <tr>\n      <th>0</th>\n      <td>0.000000</td>\n      <td>0.166667</td>\n      <td>1.0</td>\n      <td>1.0</td>\n      <td>0.004367</td>\n      <td>0.000925</td>\n      <td>0.001623</td>\n      <td>0.002450</td>\n      <td>0.005319</td>\n      <td>0.004255</td>\n      <td>...</td>\n      <td>0.000004</td>\n      <td>0.000005</td>\n      <td>0.000005</td>\n      <td>1.0</td>\n      <td>0.000008</td>\n      <td>0.000026</td>\n      <td>0.000016</td>\n      <td>0.000200</td>\n      <td>0.000007</td>\n      <td>0.000073</td>\n    </tr>\n    <tr>\n      <th>1</th>\n      <td>0.636364</td>\n      <td>0.166667</td>\n      <td>1.0</td>\n      <td>0.0</td>\n      <td>0.000000</td>\n      <td>0.000000</td>\n      <td>0.000000</td>\n      <td>0.001307</td>\n      <td>0.000000</td>\n      <td>0.000000</td>\n      <td>...</td>\n      <td>0.000000</td>\n      <td>0.000000</td>\n      <td>0.000000</td>\n      <td>0.0</td>\n      <td>0.000003</td>\n      <td>0.000000</td>\n      <td>0.000000</td>\n      <td>0.000000</td>\n      <td>0.000002</td>\n      <td>0.000000</td>\n    </tr>\n    <tr>\n      <th>2</th>\n      <td>1.000000</td>\n      <td>0.166667</td>\n      <td>1.0</td>\n      <td>0.0</td>\n      <td>0.000000</td>\n      <td>0.000925</td>\n      <td>0.005193</td>\n      <td>0.008166</td>\n      <td>0.000000</td>\n      <td>0.000000</td>\n      <td>...</td>\n      <td>0.000001</td>\n      <td>0.000009</td>\n      <td>0.000007</td>\n      <td>1.0</td>\n      <td>0.000049</td>\n      <td>0.000000</td>\n      <td>0.000000</td>\n      <td>0.000200</td>\n      <td>0.000036</td>\n      <td>0.000073</td>\n    </tr>\n    <tr>\n      <th>3</th>\n      <td>0.181818</td>\n      <td>0.166667</td>\n      <td>1.0</td>\n      <td>0.0</td>\n      <td>0.000000</td>\n      <td>0.000000</td>\n      <td>0.000325</td>\n      <td>0.000327</td>\n      <td>0.000000</td>\n      <td>0.000000</td>\n      <td>...</td>\n      <td>0.000000</td>\n      <td>0.000001</td>\n      <td>0.000001</td>\n      <td>1.0</td>\n      <td>0.000002</td>\n      <td>0.000000</td>\n      <td>0.000000</td>\n      <td>0.000150</td>\n      <td>0.000002</td>\n      <td>0.000000</td>\n    </tr>\n    <tr>\n      <th>4</th>\n      <td>0.727273</td>\n      <td>0.166667</td>\n      <td>0.0</td>\n      <td>0.0</td>\n      <td>0.000000</td>\n      <td>0.000000</td>\n      <td>0.000000</td>\n      <td>0.000000</td>\n      <td>0.000000</td>\n      <td>0.000000</td>\n      <td>...</td>\n      <td>0.000000</td>\n      <td>0.000000</td>\n      <td>0.000000</td>\n      <td>0.0</td>\n      <td>0.000000</td>\n      <td>0.000000</td>\n      <td>0.000000</td>\n      <td>0.000000</td>\n      <td>0.000000</td>\n      <td>0.000000</td>\n    </tr>\n    <tr>\n      <th>...</th>\n      <td>...</td>\n      <td>...</td>\n      <td>...</td>\n      <td>...</td>\n      <td>...</td>\n      <td>...</td>\n      <td>...</td>\n      <td>...</td>\n      <td>...</td>\n      <td>...</td>\n      <td>...</td>\n      <td>...</td>\n      <td>...</td>\n      <td>...</td>\n      <td>...</td>\n      <td>...</td>\n      <td>...</td>\n      <td>...</td>\n      <td>...</td>\n      <td>...</td>\n      <td>...</td>\n    </tr>\n    <tr>\n      <th>999995</th>\n      <td>0.090909</td>\n      <td>0.166667</td>\n      <td>1.0</td>\n      <td>0.0</td>\n      <td>0.000000</td>\n      <td>0.000000</td>\n      <td>0.000000</td>\n      <td>0.000000</td>\n      <td>0.000000</td>\n      <td>0.000000</td>\n      <td>...</td>\n      <td>0.000000</td>\n      <td>0.000000</td>\n      <td>0.000000</td>\n      <td>0.0</td>\n      <td>0.000000</td>\n      <td>0.000000</td>\n      <td>0.000000</td>\n      <td>0.000000</td>\n      <td>0.000000</td>\n      <td>0.000000</td>\n    </tr>\n    <tr>\n      <th>999996</th>\n      <td>1.000000</td>\n      <td>0.166667</td>\n      <td>1.0</td>\n      <td>1.0</td>\n      <td>0.017467</td>\n      <td>0.013876</td>\n      <td>0.017527</td>\n      <td>0.019272</td>\n      <td>0.000000</td>\n      <td>0.000000</td>\n      <td>...</td>\n      <td>0.000048</td>\n      <td>0.000065</td>\n      <td>0.000051</td>\n      <td>1.0</td>\n      <td>0.000093</td>\n      <td>0.000077</td>\n      <td>0.000047</td>\n      <td>0.000200</td>\n      <td>0.000070</td>\n      <td>0.000073</td>\n    </tr>\n    <tr>\n      <th>999997</th>\n      <td>0.000000</td>\n      <td>0.166667</td>\n      <td>1.0</td>\n      <td>1.0</td>\n      <td>0.017467</td>\n      <td>0.014801</td>\n      <td>0.016878</td>\n      <td>0.022211</td>\n      <td>0.000000</td>\n      <td>0.000000</td>\n      <td>...</td>\n      <td>0.000056</td>\n      <td>0.000100</td>\n      <td>0.000079</td>\n      <td>1.0</td>\n      <td>0.000161</td>\n      <td>0.000087</td>\n      <td>0.000000</td>\n      <td>0.000699</td>\n      <td>0.000134</td>\n      <td>0.000000</td>\n    </tr>\n    <tr>\n      <th>999998</th>\n      <td>0.090909</td>\n      <td>0.166667</td>\n      <td>1.0</td>\n      <td>1.0</td>\n      <td>0.004367</td>\n      <td>0.003700</td>\n      <td>0.007465</td>\n      <td>0.016985</td>\n      <td>0.000000</td>\n      <td>0.000000</td>\n      <td>...</td>\n      <td>0.000004</td>\n      <td>0.000033</td>\n      <td>0.000010</td>\n      <td>1.0</td>\n      <td>0.000138</td>\n      <td>0.000023</td>\n      <td>0.000014</td>\n      <td>0.000200</td>\n      <td>0.000107</td>\n      <td>0.000000</td>\n    </tr>\n    <tr>\n      <th>999999</th>\n      <td>0.181818</td>\n      <td>0.166667</td>\n      <td>1.0</td>\n      <td>1.0</td>\n      <td>0.004367</td>\n      <td>0.007401</td>\n      <td>0.008114</td>\n      <td>0.016169</td>\n      <td>0.000000</td>\n      <td>0.000000</td>\n      <td>...</td>\n      <td>0.000054</td>\n      <td>0.000049</td>\n      <td>0.000029</td>\n      <td>1.0</td>\n      <td>0.000138</td>\n      <td>0.000038</td>\n      <td>0.000023</td>\n      <td>0.000100</td>\n      <td>0.000102</td>\n      <td>0.000000</td>\n    </tr>\n  </tbody>\n</table>\n<p>1000000 rows × 32 columns</p>\n</div>"
     },
     "execution_count": 9,
     "metadata": {},
     "output_type": "execute_result"
    }
   ],
   "source": [
    "scaled = pd.DataFrame(scaled, columns = df.columns)\n",
    "scaled"
   ],
   "metadata": {
    "collapsed": false,
    "pycharm": {
     "name": "#%%\n"
    }
   }
  },
  {
   "cell_type": "code",
   "execution_count": 10,
   "outputs": [],
   "source": [
    "scaled.to_csv('C:/Users/paulc/Documents/Data Analysis Courses/MastersChurn/ProjectWork/ChurnModelScaled.csv')"
   ],
   "metadata": {
    "collapsed": false,
    "pycharm": {
     "name": "#%%\n"
    }
   }
  },
  {
   "cell_type": "code",
   "execution_count": null,
   "outputs": [],
   "source": [],
   "metadata": {
    "collapsed": false,
    "pycharm": {
     "name": "#%%\n"
    }
   }
  }
 ],
 "metadata": {
  "kernelspec": {
   "display_name": "Python 3 (ipykernel)",
   "language": "python",
   "name": "python3"
  },
  "language_info": {
   "codemirror_mode": {
    "name": "ipython",
    "version": 3
   },
   "file_extension": ".py",
   "mimetype": "text/x-python",
   "name": "python",
   "nbconvert_exporter": "python",
   "pygments_lexer": "ipython3",
   "version": "3.9.12"
  }
 },
 "nbformat": 4,
 "nbformat_minor": 5
}